{
 "cells": [
  {
   "cell_type": "code",
   "execution_count": 10,
   "id": "209e0ff4-e101-4574-b191-1495eb4c5847",
   "metadata": {
    "tags": []
   },
   "outputs": [],
   "source": [
    "YEAR='2022'\n",
    "RES_PATH='C:\\\\Users\\\\14106\\\\GAT\\\\result\\\\'\n",
    "DATA_PATH='C:\\\\Users\\\\14106\\\\GAT\\\\preprocessed'+YEAR+'\\\\'\n",
    "CODE_PATH=\"C:\\\\Users\\\\14106\\\\GAT\\\\\"\n",
    "RAW_PATH=\"C:\\\\Users\\\\14106\\\\GAT\\\\100school\\\\\"\n",
    "ORIG_UNIV=['columbia',\"notredame\",\"uofm\",\"UCSD\",'berkeley',\"Harvard\",\"ucla\", 'dartmouth']\n",
    "CUTOFF_GAT=0.428274\n",
    "CUTOFF_BERT=0.692322\n",
    "BETA=[-2.97772323,2.4231413,3.24225897]\n",
    "USE_OVERALL=True\n",
    "\n",
    "#C:\\Backup of covid project\\2cls_CScombined_negVSnonneg\n",
    "import numpy as np \n",
    "import urllib.request \n",
    "import os \n",
    "import csv \n",
    "import requests \n",
    "import time\n",
    "import math\n",
    "import rando\n",
    "import pandas as pd\n",
    "from collections import defaultdict\n",
    "import pickle\n",
    "import re, string, unicodedata\n",
    "import nltk\n",
    "import contractions\n",
    "import inflect\n",
    "import heapq\n",
    "import pickle\n",
    "import warnings\n",
    "import tqdm\n",
    "#from keras.preprocessing.sequence import pad_sequences\n",
    "import random\n",
    "from sklearn.utils import shuffle\n",
    "from scipy.special import softmax\n",
    "from math import exp\n",
    "from sklearn.datasets import make_classification\n",
    "from sklearn.linear_model import LogisticRegression\n",
    "from sklearn.model_selection import train_test_split\n",
    "from sklearn.metrics import roc_curve\n",
    "from matplotlib import pyplot"
   ]
  },
  {
   "cell_type": "code",
   "execution_count": 11,
   "id": "7e6ac241-42c7-45fd-9d30-87a34b4b71d2",
   "metadata": {
    "tags": []
   },
   "outputs": [],
   "source": [
    "def get_school_name():\n",
    "    files = os.listdir(DATA_PATH)\n",
    "    #print(files)\n",
    "    w=[f for f in files if f[0:15]=='feature_sampled']\n",
    "    files = [f[16:-4] for f in files if f[0:15]=='feature_sampled']\n",
    "    \n",
    "    return files\n",
    "\n",
    "def get_subreddits():\n",
    "    os.chdir(RAW_PATH)\n",
    "    dat = pd.read_csv('colleges-CCIHE-final.csv')\n",
    "    schools = []\n",
    "    for i in range(len(dat.name)):\n",
    "        schools.append(dat.loc[i, 'subreddit'])\n",
    "    return schools\n",
    "\n",
    "def ensemble(s:str, df):\n",
    "    df.rename(columns={'emo_pred_pos': 'bert_pos',\n",
    "                       'emo_pred_neu': 'bert_neu', \n",
    "                       'emo_pred_neg': 'bert_neg'}, inplace=True)\n",
    "    df['bert_nneg']=1-df['bert_neg']\n",
    "    df.drop(['bert_pos', 'bert_neu'], inplace=True, axis=1)\n",
    "    get_gat_result(s, df)\n",
    "    scaling_prob(s, df)\n",
    "    use_year=False\n",
    "    if YEAR=='2019' or YEAR=='2020':\n",
    "        use_year=True\n",
    "    beta=get_coef(s, use_year)\n",
    "    if USE_OVERALL:\n",
    "        beta=BETA\n",
    "    combine_probs(s, df, beta)\n",
    "    df2csv(s, df)\n",
    "    \n",
    "def get_gat_result(s:str, df):\n",
    "    os.chdir(RES_PATH)\n",
    "    name=s+'_'+YEAR+'.p'\n",
    "    predicted=pickle.load(open(name,'rb'))\n",
    "    m=softmax(predicted,axis=1)\n",
    "    df['gat_neg']=m[:,0]\n",
    "    df['gat_nneg']=m[:,1]\n",
    "    \n",
    "            \n",
    "def scaling_prob(s:str, df):\n",
    "    flag=(df['gat_nneg']>=CUTOFF_GAT).apply(int)\n",
    "    new_pos=flag*(0.5*(df['gat_nneg']-CUTOFF_GAT)/(1-CUTOFF_GAT)+0.5)+(1-flag)*(0.5*df['gat_nneg']/CUTOFF_GAT)\n",
    "    df['gat_nneg_norm']=new_pos\n",
    "    df['gat_neg_norm']=1-new_pos\n",
    "\n",
    "    flag=(df['bert_nneg']>=CUTOFF_BERT).apply(int)\n",
    "    new_pos=flag*(0.5*(df['bert_nneg']-CUTOFF_BERT)/(1-CUTOFF_BERT)+0.5)+(1-flag)*(0.5*df['bert_nneg']/CUTOFF_BERT)\n",
    "    df['bert_nneg_norm']=new_pos\n",
    "    df['bert_neg_norm']=1-new_pos\n",
    "\n",
    "def combine_probs(s:str, df, beta):\n",
    "    log_pos_odds=beta[0]+beta[1]*df['gat_nneg_norm']+beta[2]*df['bert_nneg_norm']\n",
    "    odds=(log_pos_odds).apply(exp)\n",
    "    p_pos=odds/(1+odds)\n",
    "    df['esm_nneg']=p_pos\n",
    "    df['esm_neg']=1-p_pos\n",
    "\n",
    "def df2csv(s:str, df):\n",
    "    os.chdir(RES_PATH)\n",
    "    name=s+'_'+YEAR+'_prob.csv'\n",
    "    df.to_csv(name, header=True,index=False,encoding=\"utf-8-sig\")\n",
    "\n",
    "def in_list(s:str,ss:list):\n",
    "    return s in ss\n",
    "\n",
    "def get_coef(sc:str, use_year: bool):#the school that you wanna get coeff for\n",
    "    os.chdir(CODE_PATH)\n",
    "    with open('cluster.pkl', 'rb') as f:\n",
    "         dic= pickle.load(f)\n",
    "    schools=dic[sc]\n",
    "    #if sc in ORIG_UNIV:\n",
    "    #    schools=[sc]\n",
    "    df=pd.read_csv('past - dm1920copied.csv')\n",
    "    if use_year:\n",
    "    #SPECIFYING YEAR\n",
    "        trainX=np.transpose(np.vstack((np.array(df.loc[(df.vali==0) & (df['school'].apply(in_list,ss=schools)) & (df.year==int(YEAR))]['pred_han_pos_norm'],dtype=float), \n",
    "                    np.array(df.loc[(df.vali==0) & (df['school'].apply(in_list,ss=schools)) & (df.year==int(YEAR))]['pred_bert_pos_norm'],dtype=float))))\n",
    "        testX=np.transpose(np.vstack((np.array(df.loc[(df.vali==1) & (df['school'].apply(in_list,ss=schools)) & (df.year==int(YEAR))]['pred_han_pos_norm'],dtype=float), \n",
    "                    np.array(df.loc[(df.vali==1) & (df['school'].apply(in_list,ss=schools)) & (df.year==int(YEAR))]['pred_bert_pos_norm'],dtype=float))))\n",
    "        trainy=np.array(df.loc[(df.vali==0) & (df['school'].apply(in_list,ss=schools)) & (df.year==int(YEAR))]['truth_rand'],dtype=float)\n",
    "        testy =np.array(df.loc[(df.vali==1) & (df['school'].apply(in_list,ss=schools)) & (df.year==int(YEAR))]['truth_rand'],dtype=float)\n",
    "\n",
    "    #WITHOUT SPECIFYING YEAR\n",
    "    if not use_year:\n",
    "        trainX=np.transpose(np.vstack((np.array(df.loc[(df.vali==0) & (df['school'].apply(in_list,ss=schools))]['pred_han_pos_norm'],dtype=float), \n",
    "                    np.array(df.loc[(df.vali==0) & (df['school'].apply(in_list,ss=schools))]['pred_bert_pos_norm'],dtype=float))))\n",
    "        testX=np.transpose(np.vstack((np.array(df.loc[(df.vali==1) & (df['school'].apply(in_list,ss=schools))]['pred_han_pos_norm'],dtype=float), \n",
    "                    np.array(df.loc[(df.vali==1) & (df['school'].apply(in_list,ss=schools))]['pred_bert_pos_norm'],dtype=float))))\n",
    "        trainy=np.array(df.loc[(df.vali==0) & (df['school'].apply(in_list,ss=schools))]['truth_rand'],dtype=float)\n",
    "        testy =np.array(df.loc[(df.vali==1) & (df['school'].apply(in_list,ss=schools))]['truth_rand'],dtype=float)\n",
    "\n",
    "    # fit a model\n",
    "    model = LogisticRegression(solver='lbfgs')#,fit_intercept=False)\n",
    "    model.fit(trainX, trainy)\n",
    "    return list(model.intercept_)+list(model.coef_[0,:])"
   ]
  },
  {
   "cell_type": "code",
   "execution_count": 12,
   "id": "ce97ff6b-4f68-4c9c-b9cf-2f7c87f9fe7c",
   "metadata": {
    "tags": []
   },
   "outputs": [
    {
     "name": "stderr",
     "output_type": "stream",
     "text": [
      "100%|█████████████████████████████████████████████████████████████████████| 128/128 [01:17<00:00,  1.66it/s]\n"
     ]
    }
   ],
   "source": [
    "schools=get_subreddits()\n",
    "for s in tqdm.tqdm(schools[0:]):\n",
    "    os.chdir(DATA_PATH)\n",
    "    name=s+'_'+YEAR+'_sampled.csv'\n",
    "    df=pd.read_csv(name,skip_blank_lines=True)\n",
    "    ensemble(s, df)\n"
   ]
  },
  {
   "cell_type": "code",
   "execution_count": 70,
   "id": "fd5696ce-7cce-4b1c-abf9-45db19f3161e",
   "metadata": {
    "tags": []
   },
   "outputs": [
    {
     "name": "stdout",
     "output_type": "stream",
     "text": [
      "[-1.9844362271511182, 1.9509084539579045, 1.9913152543599664]\n",
      "[-1.593879627567469, 1.6435917976732082, 1.937362121659135]\n",
      "[-1.7553337778160232, 1.7228575142882883, 1.7765901749714883]\n",
      "[-1.909744956264433, 1.9780436817034088, 1.7851076139301751]\n",
      "[-2.5447198558632946, 1.9789326534499392, 2.127186485607913]\n",
      "[-1.9018289802418116, 1.7919108288438002, 1.7465997773451514]\n",
      "[-1.7872817822456977, 1.674825840796598, 1.664431768131302]\n",
      "[-2.3211420610626425, 1.986623440672888, 1.9097587539196859]\n"
     ]
    }
   ],
   "source": [
    "for u in ORIG_UNIV:\n",
    "    print(get_coef(u))\n",
    "#['columbia',\"notredame\",\"uofm\",\"UCSD\",'berkeley',\"Harvard\",\"ucla\", 'dartmouth']"
   ]
  },
  {
   "cell_type": "code",
   "execution_count": null,
   "id": "3656c485-3378-4b07-a3f3-e21e37fd8559",
   "metadata": {
    "tags": []
   },
   "outputs": [],
   "source": [
    "sc='amherstcollege'\n",
    "os.chdir(CODE_PATH)\n",
    "with open('cluster.pkl', 'rb') as f:\n",
    "     dic= pickle.load(f)\n",
    "schools=dic[sc]\n",
    "if sc in ORIG_UNIV:\n",
    "    schools=[sc]\n",
    "df=pd.read_csv('past - dm1920copied.csv')\n",
    "trainX=np.transpose(np.vstack((np.array(df.loc[(df.vali==0) & (df['school'].apply(in_list,ss=schools)) & (df.year==int(YEAR))]['pred_han_pos_norm'],dtype=float), \n",
    "                np.array(df.loc[(df.vali==0) & (df['school'].apply(in_list,ss=schools)) & (df.year==int(YEAR))]['pred_bert_pos_norm'],dtype=float))))\n",
    "trainX\n"
   ]
  },
  {
   "cell_type": "code",
   "execution_count": 14,
   "id": "bd912093-51a5-4a99-93ca-c4b1f63132c8",
   "metadata": {
    "tags": []
   },
   "outputs": [
    {
     "data": {
      "text/plain": [
       "'dartmouth'"
      ]
     },
     "execution_count": 14,
     "metadata": {},
     "output_type": "execute_result"
    }
   ],
   "source": [
    "s"
   ]
  },
  {
   "cell_type": "markdown",
   "id": "4ee4d1e3-1d8f-46a0-9ed9-35ceb6b0333b",
   "metadata": {},
   "source": [
    "# Analysis"
   ]
  },
  {
   "cell_type": "code",
   "execution_count": 68,
   "id": "5f4595eb-861d-4e18-902c-536f76b3d68d",
   "metadata": {
    "tags": []
   },
   "outputs": [
    {
     "name": "stderr",
     "output_type": "stream",
     "text": [
      "100%|█████████████████████████████████████████████████████████████████████| 128/128 [00:16<00:00,  7.67it/s]\n"
     ]
    }
   ],
   "source": [
    "os.chdir(RES_PATH)\n",
    "schools=get_subreddits()\n",
    "#schools.remove('colu')\n",
    "sizes=[]\n",
    "neg_perc=[]\n",
    "for s in tqdm.tqdm(schools[0:]):\n",
    "    os.chdir(RES_PATH)\n",
    "    name=s+'_'+YEAR+'_prob.csv'\n",
    "    df=pd.read_csv(name,encoding=\"utf-8-sig\")\n",
    "    sizes.append(len(df.index))\n",
    "    neg_perc.append(sum(df['esm_neg']>0.5)/sizes[-1])"
   ]
  },
  {
   "cell_type": "code",
   "execution_count": 11,
   "id": "7ab77aea-ffcd-4a4d-9a38-65837ade70c2",
   "metadata": {
    "tags": []
   },
   "outputs": [
    {
     "data": {
      "text/plain": [
       "'uofi'"
      ]
     },
     "execution_count": 11,
     "metadata": {},
     "output_type": "execute_result"
    }
   ],
   "source": [
    "idx=neg_perc.index(max(neg_perc))\n",
    "schools[idx]"
   ]
  },
  {
   "cell_type": "code",
   "execution_count": 52,
   "id": "c28e7060-2b6a-41f9-9351-e3f282a2766a",
   "metadata": {
    "tags": []
   },
   "outputs": [
    {
     "data": {
      "image/png": "[encoded data removed]",
      "text/plain": [
       "<Figure size 1000x700 with 1 Axes>"
      ]
     },
     "metadata": {},
     "output_type": "display_data"
    }
   ],
   "source": [
    "from matplotlib import pyplot as plt\n",
    "\n",
    "os.chdir(DATA_PATH)\n",
    "fig, ax = plt.subplots(figsize =(10, 7))\n",
    "ax.hist(neg_perc, bins=60)\n",
    "plt.xlabel(\"Pencentage of negative sample\", fontsize=20)\n",
    "plt.ylabel(\"Count\", fontsize=20)\n",
    "plt.xticks(fontsize= 18)\n",
    "plt.yticks(fontsize= 18)\n",
    "plt.xlim([0, 0.6])\n",
    "plt.show()"
   ]
  },
  {
   "cell_type": "code",
   "execution_count": 26,
   "id": "23c7b1fa-1810-4350-ae1c-e7aa9f346130",
   "metadata": {
    "tags": []
   },
   "outputs": [
    {
     "data": {
      "text/html": [
       "<div>\n",
       "<style scoped>\n",
       "    .dataframe tbody tr th:only-of-type {\n",
       "        vertical-align: middle;\n",
       "    }\n",
       "\n",
       "    .dataframe tbody tr th {\n",
       "        vertical-align: top;\n",
       "    }\n",
       "\n",
       "    .dataframe thead th {\n",
       "        text-align: right;\n",
       "    }\n",
       "</style>\n",
       "<table border=\"1\" class=\"dataframe\">\n",
       "  <thead>\n",
       "    <tr style=\"text-align: right;\">\n",
       "      <th></th>\n",
       "      <th>0</th>\n",
       "    </tr>\n",
       "  </thead>\n",
       "  <tbody>\n",
       "    <tr>\n",
       "      <th>count</th>\n",
       "      <td>128.000000</td>\n",
       "    </tr>\n",
       "    <tr>\n",
       "      <th>mean</th>\n",
       "      <td>0.292524</td>\n",
       "    </tr>\n",
       "    <tr>\n",
       "      <th>std</th>\n",
       "      <td>0.081505</td>\n",
       "    </tr>\n",
       "    <tr>\n",
       "      <th>min</th>\n",
       "      <td>0.055556</td>\n",
       "    </tr>\n",
       "    <tr>\n",
       "      <th>25%</th>\n",
       "      <td>0.235919</td>\n",
       "    </tr>\n",
       "    <tr>\n",
       "      <th>50%</th>\n",
       "      <td>0.306473</td>\n",
       "    </tr>\n",
       "    <tr>\n",
       "      <th>75%</th>\n",
       "      <td>0.351260</td>\n",
       "    </tr>\n",
       "    <tr>\n",
       "      <th>max</th>\n",
       "      <td>0.545580</td>\n",
       "    </tr>\n",
       "  </tbody>\n",
       "</table>\n",
       "</div>"
      ],
      "text/plain": [
       "                0\n",
       "count  128.000000\n",
       "mean     0.292524\n",
       "std      0.081505\n",
       "min      0.055556\n",
       "25%      0.235919\n",
       "50%      0.306473\n",
       "75%      0.351260\n",
       "max      0.545580"
      ]
     },
     "execution_count": 26,
     "metadata": {},
     "output_type": "execute_result"
    }
   ],
   "source": [
    "import pandas as pd\n",
    "import numpy as np\n",
    "\n",
    "df_describe = pd.DataFrame(neg_perc)\n",
    "df_describe.describe()\n",
    "\n"
   ]
  },
  {
   "cell_type": "code",
   "execution_count": 69,
   "id": "df80ddc0-e149-4835-bb80-9a74f5147f99",
   "metadata": {
    "tags": []
   },
   "outputs": [
    {
     "name": "stdout",
     "output_type": "stream",
     "text": [
      "notredame -0.004167194426852205\n",
      "uofm 0.004746087511982466\n",
      "UCSD 3.999542909838283e-05\n",
      "berkeley 0.00484375937143966\n",
      "Harvard -0.0006083650190120693\n",
      "ucla 0.0017982715757085543\n",
      "dartmouth -0.004175824175824516\n",
      "columbia 0.00222420989862826\n"
     ]
    }
   ],
   "source": [
    "school8 = [\"notredame\",\"uofm\",\"UCSD\",'berkeley',\"Harvard\",\"ucla\", 'dartmouth','columbia']\n",
    "schools_2019_neg_old=[25.02, 32.94, 37.15, 39.88, 32.32, 36.23, 24.18, 33.51]# this version, table 3 used per school stacking, but glmm used overall stacking parameter\n",
    "#schools_2019_neg_old=[20.01, 31.44, 36.02, 47.97, 33.43, 37.41, 30.22, 31.72]# this version, used per school stacking for glmm\n",
    "for i, s in enumerate(school8):\n",
    "    idx=schools.index(s)\n",
    "    print(s, neg_perc[idx]*100-schools_2019_neg_old[i])"
   ]
  },
  {
   "cell_type": "code",
   "execution_count": 64,
   "id": "5ae745b3-0fc0-4b28-b2ef-62cc5e12e271",
   "metadata": {
    "tags": []
   },
   "outputs": [
    {
     "name": "stdout",
     "output_type": "stream",
     "text": [
      "notredame 0.0027044025157181295\n",
      "uofm 0.0019436790106794888\n",
      "UCSD 0.0025596679349675355\n",
      "berkeley -0.003851819281081248\n",
      "Harvard 0.0002588632526681067\n",
      "ucla -0.0012055145880083273\n",
      "dartmouth 0.004763458401303211\n",
      "columbia 0.0005976223626475985\n"
     ]
    }
   ],
   "source": [
    "school8 = [\"notredame\",\"uofm\",\"UCSD\",'berkeley',\"Harvard\",\"ucla\", 'dartmouth','columbia']\n",
    "schools_2020_neg_old=[53.23, 46.52, 38.60, 42.32, 32.02, 41.04, 23.16, 36.66]\n",
    "#schools_2020_neg_old=[55.80, 47.66, 38.41, 45.79, 34.33, 33.57, 29.12, 35.98]\n",
    "for i, s in enumerate(school8):\n",
    "    idx=schools.index(s)\n",
    "    print(s, neg_perc[idx]*100-schools_2020_neg_old[i])"
   ]
  },
  {
   "cell_type": "code",
   "execution_count": 34,
   "id": "impressed-blind",
   "metadata": {},
   "outputs": [
    {
     "name": "stderr",
     "output_type": "stream",
     "text": [
      "  7%|████▉                                                                  | 9/128 [00:01<00:10, 11.13it/s]"
     ]
    },
    {
     "name": "stdout",
     "output_type": "stream",
     "text": [
      "['byu', 0.5007596475235491]\n"
     ]
    },
    {
     "name": "stderr",
     "output_type": "stream",
     "text": [
      " 53%|█████████████████████████████████████▏                                | 68/128 [00:08<00:13,  4.39it/s]"
     ]
    },
    {
     "name": "stdout",
     "output_type": "stream",
     "text": [
      "['Tulane', 0.5046728971962616]\n"
     ]
    },
    {
     "name": "stderr",
     "output_type": "stream",
     "text": [
      " 59%|█████████████████████████████████████████                             | 75/128 [00:09<00:08,  6.18it/s]"
     ]
    },
    {
     "name": "stdout",
     "output_type": "stream",
     "text": [
      "['berkeley', 0.5005333333333334]\n"
     ]
    },
    {
     "name": "stderr",
     "output_type": "stream",
     "text": [
      " 68%|███████████████████████████████████████████████▌                      | 87/128 [00:11<00:05,  6.99it/s]"
     ]
    },
    {
     "name": "stdout",
     "output_type": "stream",
     "text": [
      "['uofi', 0.6020671834625323]\n"
     ]
    },
    {
     "name": "stderr",
     "output_type": "stream",
     "text": [
      " 69%|████████████████████████████████████████████████▏                     | 88/128 [00:12<00:08,  4.84it/s]"
     ]
    },
    {
     "name": "stdout",
     "output_type": "stream",
     "text": [
      "['umaine', 0.5263157894736842]\n"
     ]
    },
    {
     "name": "stderr",
     "output_type": "stream",
     "text": [
      " 86%|███████████████████████████████████████████████████████████▎         | 110/128 [00:14<00:01, 12.77it/s]"
     ]
    },
    {
     "name": "stdout",
     "output_type": "stream",
     "text": [
      "['sooners', 0.5469971401334605]\n"
     ]
    },
    {
     "name": "stderr",
     "output_type": "stream",
     "text": [
      "100%|█████████████████████████████████████████████████████████████████████| 128/128 [00:16<00:00,  7.69it/s]"
     ]
    },
    {
     "name": "stdout",
     "output_type": "stream",
     "text": [
      "0.36367168721702453\n",
      "0.41092257522376324\n"
     ]
    },
    {
     "name": "stderr",
     "output_type": "stream",
     "text": [
      "\n"
     ]
    }
   ],
   "source": [
    "def get_senti_class(e):\n",
    "    return e>0.5\n",
    "\n",
    "schools=get_subreddits()\n",
    "num8=0\n",
    "neg8=0\n",
    "num=0\n",
    "neg=0\n",
    "for s in tqdm.tqdm(schools[0:]):\n",
    "    os.chdir(RES_PATH)\n",
    "    name=s+'_'+YEAR+'_prob.csv'\n",
    "    df=pd.read_csv(name,skip_blank_lines=True)\n",
    "    n_neg=sum(df.esm_neg.apply(get_senti_class))\n",
    "    n=len(df.esm_neg)\n",
    "    if n_neg/n>0.5:\n",
    "        print([s, n_neg/n])\n",
    "    num+=n\n",
    "    neg+=n_neg\n",
    "    if s in ORIG_UNIV:\n",
    "        #print(s)\n",
    "        num8+=n\n",
    "        neg8+=n_neg\n",
    "print(neg/num)\n",
    "print(neg8/num8)"
   ]
  },
  {
   "cell_type": "code",
   "execution_count": 28,
   "id": "satellite-doctrine",
   "metadata": {},
   "outputs": [
    {
     "data": {
      "text/plain": [
       "129713"
      ]
     },
     "execution_count": 28,
     "metadata": {},
     "output_type": "execute_result"
    }
   ],
   "source": [
    "num8"
   ]
  },
  {
   "cell_type": "code",
   "execution_count": null,
   "id": "chinese-allocation",
   "metadata": {},
   "outputs": [],
   "source": [
    "#get GLMM ready for BERT alone and RoBERTa alone\n",
    "os.chdir(path_data)\n",
    "\n",
    "#Time period: Aug to Nov 2019 (baseline) and  Aug to Nov. 2020;\n",
    "#A in person learning 1; others (online, hybrid) 0\n",
    "#B small city 1, large city 0\n",
    "#C private 1, public 0\n",
    "#   A  B  C \n",
    "#1  1  1  1  \n",
    "#2  1  1  0 \n",
    "#3  1  0  1   \n",
    "#4  0  1  1\n",
    "#5  1  0  0   \n",
    "#6  0  1  0 \n",
    "#7  0  0  1   \n",
    "#8  0  0  0  \n",
    "\n",
    "#1 Notre Dame (in-person learning 1, small city 1, private 1)\n",
    "#2  Michigan   ( in-person learning  1,  small city 1, public 0)\n",
    "#3. Columbia   ( in-person  1, large city 0, private 1) \n",
    "#4. Dartmouth  (online 0,  small city 1, private 1)\n",
    "#5  UCSD (in-person learning 1,  large city 0 , public 0)  \n",
    "#6  xxx   (0 online  small city 1, public 0)  \n",
    "#7  Harvard    (online 0,  large city 0, private 1)\n",
    "#8  UCLA (online 0,  large city 0, public 0)\n",
    "\n",
    "#Positive: 1, negative:0\n",
    "#2020:1, 2019:0\n",
    "#Positive: 1, negative:0\n",
    "\n",
    "for d in range(len(df_all[\"schoolyear\"])):\n",
    "    if (d/1000-int(d/1000))==0:\n",
    "        print(d)\n",
    "    y=df_all['year'][d]\n",
    "    s=df_all['school'][d]\n",
    "    #sentence=data[\"body\"][d]\n",
    "    #emb=np.array(use(sentence))[0]\n",
    "    line=[df_all[\"pred_HAN\"][d]]\n",
    "    line.append(2)#0 si 2019, 1 is 2020, 2 is 2021\n",
    "    line.append(1)#all is in-person learning\n",
    "    '''\n",
    "    if categ[s][0]==1:\n",
    "        line.append(1)\n",
    "    elif categ[s][0]==0:\n",
    "        if y=='2020':\n",
    "            line.append(0)\n",
    "        elif y=='2019':\n",
    "            line.append(1)\n",
    "    '''\n",
    "    line.append(categ[s][1])#city\n",
    "    line.append(categ[s][2])#funding type\n",
    "    line.append(categ[s][3])#schools\n",
    "    name='GLMM_esm_han_2021.csv'\n",
    "    os.chdir(path_result)\n",
    "    e=open(name, 'a',newline='')\n",
    "    with e:\n",
    "        writer = csv.writer(e, delimiter=',')\n",
    "        writer.writerow(line)\n",
    "\n",
    "        \n",
    "for d in range(len(df_all[\"schoolyear\"])):\n",
    "    if (d/1000-int(d/1000))==0:\n",
    "        print(d)\n",
    "    y=df_all['year'][d]\n",
    "    s=df_all['school'][d]\n",
    "    #sentence=data[\"body\"][d]\n",
    "    #emb=np.array(use(sentence))[0]\n",
    "    line=[df_all[\"pred_BERT\"][d]]\n",
    "    line.append(2)#0 si 2019, 1 is 2020, 2 is 2021\n",
    "    line.append(1)#all is in-person learning\n",
    "    '''\n",
    "    if categ[s][0]==1:\n",
    "        line.append(1)\n",
    "    elif categ[s][0]==0:\n",
    "        if y=='2020':\n",
    "            line.append(0)\n",
    "        elif y=='2019':\n",
    "            line.append(1)\n",
    "    '''\n",
    "    line.append(categ[s][1])#city\n",
    "    line.append(categ[s][2])#funding type\n",
    "    line.append(categ[s][3])#schools\n",
    "    #line=line+emb.tolist()\n",
    "    name='GLMM_esm_bert_2021.csv'\n",
    "    os.chdir(path_result)\n",
    "    e=open(name, 'a',newline='')\n",
    "    with e:\n",
    "        writer = csv.writer(e, delimiter=',')\n",
    "        writer.writerow(line)\n",
    "#df_all"
   ]
  },
  {
   "cell_type": "code",
   "execution_count": 13,
   "id": "balanced-newsletter",
   "metadata": {},
   "outputs": [
    {
     "name": "stdout",
     "output_type": "stream",
     "text": [
      "\\multirow{2}{5em}{UCLA} & 2019 & 6121 & 10773 & 16894 & 36.23\\\\\n",
      " & 2020 & 7680 & 11034 & 18714 & 41.04\\\\\n",
      "\\hline\n",
      "\\multirow{2}{5em}{UCSD} & 2019 & 6502 & 11000 & 17502 & 37.15\\\\\n",
      " & 2020 & 6696 & 10650 & 17346 & 38.60\\\\\n",
      "\\hline\n",
      "\\multirow{2}{5em}{UCB} & 2019 & 6650 & 10023 & 16673 & 39.88\\\\\n",
      " & 2020 & 7699 & 10495 & 18194 & 42.32\\\\\n",
      "\\hline\n",
      "\\multirow{2}{5em}{UMich} & 2019 & 4126 & 8398 & 12524 & 32.94\\\\\n",
      " & 2020 & 6922 & 7957 & 14879 & 46.52\\\\\n",
      "\\hline\n",
      "\\multirow{2}{5em}{Harvard} & 2019 & 935 & 1958 & 2893 & 32.32\\\\\n",
      " & 2020 & 1138 & 2416 & 3554 & 32.02\\\\\n",
      "\\hline\n",
      "\\multirow{2}{5em}{Columbia} & 2019 & 1686 & 3345 & 5031 & 33.51\\\\\n",
      " & 2020 & 3423 & 5914 & 9337 & 36.66\\\\\n",
      "\\hline\n",
      "\\multirow{2}{5em}{Dartmouth} & 2019 & 308 & 966 & 1274 & 24.18\\\\\n",
      " & 2020 & 284 & 942 & 1226 & 23.16\\\\\n",
      "\\hline\n",
      "\\multirow{2}{5em}{ND} & 2019 & 395 & 1184 & 1579 & 25.02\\\\\n",
      " & 2020 & 4232 & 3718 & 7950 & 53.23\\\\\n",
      "\\hline\n",
      "\\multirow{2}{5em}{total} & 2019 & 26723 & 47647 & 74370 & 35.93\\\\\n",
      " & 2020 & 38074 & 53126 & 91200 & 41.75\\\\\n",
      "\\hline\n"
     ]
    }
   ],
   "source": [
    "#format it table for plosone table4\n",
    "#change the sequence you copy paste\n",
    "\n",
    "years=['2019','2020']\n",
    "methods=['GAT','bert','ens']\n",
    "schoolyears2019=[\"ucla2019\",\"UCSD2019\",\"berkeley2019\",\"uofm2019\",\"Harvard2019\",\"columbia2019\",\"dartmouth2019\",\"notredame2019\",'overall2019']\n",
    "schoolyears2020=[\"ucla2020\",\"UCSD2020\",\"berkeley2020\",\"uofm2020\",\"Harvard2020\",\"columbia2020\",\"dartmouth2020\",\"notredame2020\",'overall2020']\n",
    "schools=[\"ucla\",\"UCSD\",\"berkeley\",\"uofm\",\"Harvard\",\"columbia\",\"dartmouth\",\"notredame\"]\n",
    "schoolnames=[\"UCLA\",\"UCSD\",\"UCB\",\"UMich\",\"Harvard\",\"Columbia\",\"Dartmouth\",\"ND\"]\n",
    "neg2019=[]\n",
    "pos2019=[]\n",
    "total2019=[]\n",
    "\n",
    "neg2020=[]\n",
    "pos2020=[]\n",
    "total2020=[]\n",
    "for s in schools:\n",
    "    for y in years:\n",
    "        if y=='2019':\n",
    "            line='\\\\multirow{2}{5em}{'+schoolnames[schools.index(s)]+'}'+' & 2019 & '\n",
    "            neg=len(df_all.loc[(df_all.pred_esm==float(0)) & (df_all.school==s) & (df_all.year==(y))]['year'])\n",
    "            pos=len(df_all.loc[(df_all.pred_esm==float(1)) & (df_all.school==s) & (df_all.year==(y))]['year'])\n",
    "            total=neg+pos\n",
    "            neg2019.append(neg)\n",
    "            pos2019.append(pos)\n",
    "            total2019.append(total)\n",
    "        elif y=='2020':\n",
    "            line=' & 2020 & '\n",
    "            neg=len(df_all.loc[(df_all.pred_esm==float(0)) & (df_all.school==s) & (df_all.year==(y))]['year'])\n",
    "            pos=len(df_all.loc[(df_all.pred_esm==float(1)) & (df_all.school==s) & (df_all.year==(y))]['year'])\n",
    "            total=neg+pos\n",
    "            neg2020.append(neg)\n",
    "            pos2020.append(pos)\n",
    "            total2020.append(total)\n",
    "        perc='{:.2f}'.format(round(neg/total*100, 2))\n",
    "        line=line+str(neg)+' & '+str(pos)+' & '+str(total)+' & '+perc+\"\\\\\\\\\"\n",
    "        print(line)\n",
    "    print('\\\\hline')\n",
    "line='\\\\multirow{2}{5em}{total}'+' & 2019 & '\n",
    "neg=sum(neg2019)\n",
    "pos=sum(pos2019)\n",
    "total=sum(total2019)\n",
    "perc='{:.2f}'.format(round(neg/total*100, 2))\n",
    "line=line+str(neg)+' & '+str(pos)+' & '+str(total)+' & '+perc+\"\\\\\\\\\"\n",
    "print(line)\n",
    "\n",
    "line=' & 2020 & '\n",
    "neg=sum(neg2020)\n",
    "pos=sum(pos2020)\n",
    "total=sum(total2020)\n",
    "perc='{:.2f}'.format(round(neg/total*100, 2))\n",
    "line=line+str(neg)+' & '+str(pos)+' & '+str(total)+' & '+perc+\"\\\\\\\\\"\n",
    "print(line)\n",
    "print('\\\\hline')"
   ]
  },
  {
   "cell_type": "code",
   "execution_count": 9,
   "id": "numeric-harvey",
   "metadata": {},
   "outputs": [],
   "source": [
    "path_result='C:\\\\Backup of covid project\\\\2cls_CScombined_negVSnonneg\\\\results\\\\'\n",
    "path_data=\"C:\\\\Backup of covid project\\\\2cls_CScombined_negVSnonneg\\\\data\\\\\"\n",
    "path_code=\"C:\\\\Backup of covid project\\\\2cls_CScombined_negVSnonneg\\\\\"\n",
    "\n",
    "#path_result='C:\\\\Backup of covid project\\\\2cls_wlNeu_woNeu\\\\results_WOneu\\\\'\n",
    "#path_data=\"C:\\\\Backup of covid project\\\\2cls_wlNeu_woNeu\\\\data\\\\\"\n",
    "#path_code=\"C:\\\\Backup of covid project\\\\\"\n",
    "\n",
    "import time\n",
    "import numpy as np\n",
    "import tensorflow as tf\n",
    "import os\n",
    "import random\n",
    "os.chdir(path_code)\n",
    "import gat\n",
    "import imp\n",
    "imp.reload(gat)\n",
    "from gat import GAT, HeteGAT, HeteGAT_multi  # or * for that matter\n",
    "\n",
    "import process\n",
    "import importlib\n",
    "importlib.reload(process)\n",
    "import numpy as np\n",
    "import scipy.io as sio\n",
    "import scipy.sparse as sp\n",
    "\n",
    "\n",
    "def sample_mask(idx, l):\n",
    "    \"\"\"Create mask.\"\"\"\n",
    "    mask = np.zeros(l)\n",
    "    mask[idx] = 1\n",
    "    return np.array(mask, dtype=np.bool)\n",
    "\n",
    "   \n",
    "def load_data_dblp(path=path_data):\n",
    "\n",
    "\n",
    "    import pandas as pd\n",
    "    import pickle\n",
    "    import scipy.sparse\n",
    "    from scipy.sparse import csc_matrix\n",
    "    from scipy import sparse\n",
    "    import numpy as np \n",
    "    import os \n",
    "    import csv \n",
    "    import numpy as np\n",
    "    schools = [\"notredame\",\"uofm\",\"columbia\",\"dartmouth\",\"UCSD\",\"berkeley\",\"Harvard\",\"ucla\"]\n",
    "    s=schools[3]#use this index to control which network we are going to run.\n",
    "    t=\"comment\"\n",
    "    \n",
    "    os.chdir(path)\n",
    "    name=\"label_emt3_\"+s+\".csv\"\n",
    "    truelabels=pd.read_csv(name,skip_blank_lines=True,header=None)\n",
    "    name=\"feature_\"+s+\".csv\"\n",
    "    truefeatures=pd.read_csv(name,skip_blank_lines=True,header=None).values\n",
    "    #name=\"feature_\"+s+t+\".npz\"\n",
    "    #truefeatures=scipy.sparse.load_npz(name)\n",
    "    #truefeatures=truefeatures.toarray()\n",
    "\n",
    "    N=truefeatures.shape[0]\n",
    "    name=\"CCasym_\"+s+\".npz\"\n",
    "    dat_cc=scipy.sparse.load_npz(name);\n",
    "    dat_cc.transpose(axes=None, copy=False)\n",
    "    dat_cc=dat_cc.toarray();\n",
    "    #name=\"CCsym_\"+s+\".npz\"\n",
    "    #dat_cc=scipy.sparse.load_npz(name);dat_cc=dat_cc.toarray();\n",
    "    #name=\"CCasym_\"+s+\".npz\"\n",
    "    #dat_cca=scipy.sparse.load_npz(name);dat_cca=dat_cca.toarray();\n",
    "    name=\"CSCsy_\"+s+\".npz\"\n",
    "    #dat_csc=scipy.sparse.load_npz(name);dat_csc=dat_csc.toarray();\n",
    "    name=\"CACsy_\"+s+\".npz\"\n",
    "    #dat_cac=scipy.sparse.load_npz(name);dat_cac=dat_cac.toarray();\n",
    "    #rownetworks = [dat_csc,dat_cac]#,dat_cc]\n",
    "    #rownetworks = [np.transpose(dat_cc)]\n",
    "    rownetworks = [(dat_cc)]\n",
    "    return dat_cc\n",
    "\n",
    "w=load_data_dblp()"
   ]
  },
  {
   "cell_type": "code",
   "execution_count": 15,
   "id": "infinite-terry",
   "metadata": {},
   "outputs": [],
   "source": [
    "os.chdir(path_result)\n",
    "df_all.to_csv('dfall1.csv')"
   ]
  },
  {
   "cell_type": "code",
   "execution_count": null,
   "id": "unauthorized-artwork",
   "metadata": {},
   "outputs": [],
   "source": []
  }
 ],
 "metadata": {
  "kernelspec": {
   "display_name": "Python 3 (ipykernel)",
   "language": "python",
   "name": "python3"
  },
  "language_info": {
   "codemirror_mode": {
    "name": "ipython",
    "version": 3
   },
   "file_extension": ".py",
   "mimetype": "text/x-python",
   "name": "python",
   "nbconvert_exporter": "python",
   "pygments_lexer": "ipython3",
   "version": "3.7.9"
  }
 },
 "nbformat": 4,
 "nbformat_minor": 5
}
