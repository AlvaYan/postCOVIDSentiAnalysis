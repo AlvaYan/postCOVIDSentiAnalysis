{
 "cells": [
  {
   "cell_type": "code",
   "execution_count": 1,
   "id": "16bfbe32-de41-4110-bdc2-3a892614d84d",
   "metadata": {
    "tags": []
   },
   "outputs": [],
   "source": [
    "YEAR='2019'\n",
    "RES_PATH='C:\\\\Users\\\\14106\\\\GAT\\\\result\\\\'\n",
    "PRO_PATH='C:\\\\Users\\\\14106\\\\GAT\\\\preprocessed'+YEAR+'\\\\'\n",
    "CODE_PATH=\"C:\\\\Users\\\\14106\\\\GAT\\\\\"\n",
    "RAW_PATH=\"C:\\\\Users\\\\14106\\\\GAT\\\\100school\\\\\"\n",
    "ORIG_UNIV=['columbia',\"notredame\",\"uofm\",\"UCSD\",'berkeley',\"Harvard\",\"ucla\", 'dartmouth']\n",
    "\n",
    "#C:\\Backup of covid project\\2cls_CScombined_negVSnonneg\n",
    "import numpy as np \n",
    "import urllib.request \n",
    "import os \n",
    "import csv \n",
    "import requests \n",
    "import time\n",
    "import math\n",
    "import rando\n",
    "import pandas as pd\n",
    "from collections import defaultdict\n",
    "import pickle\n",
    "import heapq\n",
    "import pickle\n",
    "import warnings\n",
    "import tqdm\n",
    "#from keras.preprocessing.sequence import pad_sequences\n",
    "from math import exp\n",
    "#import tensorflow_hub as hub\n",
    "#import tensorflow_text\n",
    "\n",
    "REGION={'WEST':['AK','HI','WA','OR','CA','MT','ID','WY',\n",
    "                'NV','UT','CO','AZ','NM'],\n",
    "        'MIDWEST':['ND','SD','NE','KS','MN','IA',\n",
    "                  'MO','WI','IL','IN','MI','OH'],\n",
    "        'NORTHEAST':['NY','NJ','PA','ME','VT','NH','MA','CT','RI'],\n",
    "        'SOUTH':['OK','TX','AR','LA','KY','TN','MS','AL',\n",
    "                'WV','DE','MD','DC','VA','NC','SC','GA','FL']}"
   ]
  },
  {
   "cell_type": "code",
   "execution_count": 2,
   "id": "9f513cb3-8626-4ab7-aee1-5ff83de97e5c",
   "metadata": {
    "tags": []
   },
   "outputs": [],
   "source": [
    "def get_subreddits():\n",
    "    os.chdir(RAW_PATH)\n",
    "    dat = pd.read_csv('colleges-CCIHE-final.csv')\n",
    "    schools = []\n",
    "    for i in range(len(dat.name)):\n",
    "        schools.append(dat.loc[i, 'subreddit'])\n",
    "    return schools"
   ]
  },
  {
   "cell_type": "markdown",
   "id": "4713a96b-b147-4ae9-8b26-d6466d0a381a",
   "metadata": {},
   "source": [
    "# Schools in college.csv but not in comment\n",
    "Criterion: four years < 20 or at least two years < 10\n"
   ]
  },
  {
   "cell_type": "code",
   "execution_count": 9,
   "id": "439804fc-f7a2-4744-ac43-10778235f09e",
   "metadata": {
    "tags": []
   },
   "outputs": [
    {
     "name": "stderr",
     "output_type": "stream",
     "text": [
      "100%|████████████████████████████████████████████████████████████████████████████| 128/128 [00:00<00:00, 128009.28it/s]\n"
     ]
    }
   ],
   "source": [
    "full_list=get_subreddits()\n",
    "files = set(os.listdir(RAW_PATH))\n",
    "schools_to_remove=[]\n",
    "for s in tqdm.tqdm(full_list):\n",
    "    num=[]\n",
    "    year_available=4\n",
    "    for year in range(2019, 2023, 1):\n",
    "        name='comment_'+s+'_'+str(year)+'.csv'\n",
    "        if name not in files:\n",
    "            num.append(0)\n",
    "            year_available-=1\n",
    "            continue\n",
    "    '''\n",
    "        os.chdir(RAW_PATH)\n",
    "        data=pd.read_csv(name,skip_blank_lines=True)\n",
    "        num.append(len(data['id']))\n",
    "            \n",
    "    c1=sum([i<20 for i in num])\n",
    "    c2=sum([i<10 for i in num])\n",
    "    if c1>=4 or c2>=2:\n",
    "        schools_to_remove.append(s)\n",
    "    '''\n",
    "    if year_available<4:\n",
    "        print(s)"
   ]
  },
  {
   "cell_type": "code",
   "execution_count": 19,
   "id": "278d3006-9eb7-430e-9dd8-73c071b695f4",
   "metadata": {
    "tags": []
   },
   "outputs": [
    {
     "name": "stdout",
     "output_type": "stream",
     "text": [
      "['ProvidenceCollege', 'SHU', 'UMT', 'UniversityOfToledo', 'uwyo']\n"
     ]
    }
   ],
   "source": [
    "print(schools_to_remove)\n",
    "#['ProvidenceCollege', 'SHU', 'UMT', 'UniversityOfToledo', 'uwyo']"
   ]
  },
  {
   "cell_type": "markdown",
   "id": "5a69e70b-4896-4a15-a922-edc7efa998db",
   "metadata": {},
   "source": [
    "Also check which universities only have some years avaliable"
   ]
  },
  {
   "cell_type": "code",
   "execution_count": 32,
   "id": "04c18826-e7f1-4d36-9ca4-ac45b4989899",
   "metadata": {
    "tags": []
   },
   "outputs": [
    {
     "name": "stderr",
     "output_type": "stream",
     "text": [
      "100%|████████████████████████████████████████████████████████████████████████████| 128/128 [00:00<00:00, 127978.76it/s]"
     ]
    },
    {
     "name": "stdout",
     "output_type": "stream",
     "text": [
      "WellesleyCollege\n"
     ]
    },
    {
     "name": "stderr",
     "output_type": "stream",
     "text": [
      "\n"
     ]
    }
   ],
   "source": [
    "\n",
    "def get_files_name():\n",
    "    files = os.listdir(RAW_PATH)\n",
    "    files = [f[8:-9] for f in files if f[-8:-4]=='2019']\n",
    "    return files\n",
    "\n",
    "full_list=get_files_name()\n",
    "files = set(os.listdir(RAW_PATH))\n",
    "schools_to_remove=[]\n",
    "for s in tqdm.tqdm(full_list):\n",
    "    num=[]\n",
    "    year_available=4\n",
    "    for year in range(2019, 2023, 1):\n",
    "        name='comment_'+s+'_'+str(year)+'.csv'\n",
    "        if name not in files:\n",
    "            num.append(0)\n",
    "            year_available-=1\n",
    "            continue\n",
    "    if year_available<4:\n",
    "        print(s)\n",
    "        \n",
    "# wellesley college only have 2019, columbia only have 2021 2022"
   ]
  },
  {
   "cell_type": "markdown",
   "id": "59ee575f-9b39-4b82-98f9-a6d7a687504d",
   "metadata": {},
   "source": [
    "# Variable selection"
   ]
  },
  {
   "cell_type": "code",
   "execution_count": 5,
   "id": "33eb5d5d-de87-4cf5-b0bf-7f8a1aae43df",
   "metadata": {
    "tags": []
   },
   "outputs": [],
   "source": [
    "import pandas as pd\n",
    "import os\n",
    "\n",
    "DEMO_PATH='C:\\\\Users\\\\14106\\\\GAT\\\\100school\\\\'\n",
    "RES_PATH='C:\\\\Users\\\\14106\\\\GAT\\\\result\\\\'\n",
    "\n",
    "name=DEMO_PATH+'colleges-CCIHE-final.csv'\n",
    "data=pd.read_csv(name ,skip_blank_lines=True)"
   ]
  },
  {
   "cell_type": "code",
   "execution_count": 4,
   "id": "c474f6bf-4d8d-4707-8619-2f11252c1934",
   "metadata": {
    "tags": []
   },
   "outputs": [
    {
     "data": {
      "text/html": [
       "<div>\n",
       "<style scoped>\n",
       "    .dataframe tbody tr th:only-of-type {\n",
       "        vertical-align: middle;\n",
       "    }\n",
       "\n",
       "    .dataframe tbody tr th {\n",
       "        vertical-align: top;\n",
       "    }\n",
       "\n",
       "    .dataframe thead th {\n",
       "        text-align: right;\n",
       "    }\n",
       "</style>\n",
       "<table border=\"1\" class=\"dataframe\">\n",
       "  <thead>\n",
       "    <tr style=\"text-align: right;\">\n",
       "      <th></th>\n",
       "      <th>name</th>\n",
       "      <th>rankings</th>\n",
       "      <th>D1</th>\n",
       "      <th>location</th>\n",
       "      <th>subreddit</th>\n",
       "      <th>city</th>\n",
       "      <th>stabbr</th>\n",
       "      <th>basic2000</th>\n",
       "      <th>basic2005</th>\n",
       "      <th>basic2010</th>\n",
       "      <th>...</th>\n",
       "      <th>satv25</th>\n",
       "      <th>satm25</th>\n",
       "      <th>satcmb25</th>\n",
       "      <th>actcmp25</th>\n",
       "      <th>satacteq25</th>\n",
       "      <th>actfinal</th>\n",
       "      <th>appsf20</th>\n",
       "      <th>admitsf20</th>\n",
       "      <th>pctadmitf20</th>\n",
       "      <th>selindex</th>\n",
       "    </tr>\n",
       "  </thead>\n",
       "  <tbody>\n",
       "    <tr>\n",
       "      <th>count</th>\n",
       "      <td>128</td>\n",
       "      <td>119.000000</td>\n",
       "      <td>128</td>\n",
       "      <td>128</td>\n",
       "      <td>128</td>\n",
       "      <td>128</td>\n",
       "      <td>128</td>\n",
       "      <td>128.000000</td>\n",
       "      <td>128.000000</td>\n",
       "      <td>128.000000</td>\n",
       "      <td>...</td>\n",
       "      <td>128.000000</td>\n",
       "      <td>128.000000</td>\n",
       "      <td>128.000000</td>\n",
       "      <td>128.000000</td>\n",
       "      <td>128.000000</td>\n",
       "      <td>128.000000</td>\n",
       "      <td>128.000000</td>\n",
       "      <td>128.000000</td>\n",
       "      <td>128.000000</td>\n",
       "      <td>128.000000</td>\n",
       "    </tr>\n",
       "    <tr>\n",
       "      <th>unique</th>\n",
       "      <td>128</td>\n",
       "      <td>NaN</td>\n",
       "      <td>2</td>\n",
       "      <td>115</td>\n",
       "      <td>128</td>\n",
       "      <td>114</td>\n",
       "      <td>47</td>\n",
       "      <td>NaN</td>\n",
       "      <td>NaN</td>\n",
       "      <td>NaN</td>\n",
       "      <td>...</td>\n",
       "      <td>NaN</td>\n",
       "      <td>NaN</td>\n",
       "      <td>NaN</td>\n",
       "      <td>NaN</td>\n",
       "      <td>NaN</td>\n",
       "      <td>NaN</td>\n",
       "      <td>NaN</td>\n",
       "      <td>NaN</td>\n",
       "      <td>NaN</td>\n",
       "      <td>NaN</td>\n",
       "    </tr>\n",
       "    <tr>\n",
       "      <th>top</th>\n",
       "      <td>Amherst College</td>\n",
       "      <td>NaN</td>\n",
       "      <td>Y</td>\n",
       "      <td>Chicago, Illinois, United States</td>\n",
       "      <td>amherstcollege</td>\n",
       "      <td>Chicago</td>\n",
       "      <td>CA</td>\n",
       "      <td>NaN</td>\n",
       "      <td>NaN</td>\n",
       "      <td>NaN</td>\n",
       "      <td>...</td>\n",
       "      <td>NaN</td>\n",
       "      <td>NaN</td>\n",
       "      <td>NaN</td>\n",
       "      <td>NaN</td>\n",
       "      <td>NaN</td>\n",
       "      <td>NaN</td>\n",
       "      <td>NaN</td>\n",
       "      <td>NaN</td>\n",
       "      <td>NaN</td>\n",
       "      <td>NaN</td>\n",
       "    </tr>\n",
       "    <tr>\n",
       "      <th>freq</th>\n",
       "      <td>1</td>\n",
       "      <td>NaN</td>\n",
       "      <td>108</td>\n",
       "      <td>4</td>\n",
       "      <td>1</td>\n",
       "      <td>4</td>\n",
       "      <td>10</td>\n",
       "      <td>NaN</td>\n",
       "      <td>NaN</td>\n",
       "      <td>NaN</td>\n",
       "      <td>...</td>\n",
       "      <td>NaN</td>\n",
       "      <td>NaN</td>\n",
       "      <td>NaN</td>\n",
       "      <td>NaN</td>\n",
       "      <td>NaN</td>\n",
       "      <td>NaN</td>\n",
       "      <td>NaN</td>\n",
       "      <td>NaN</td>\n",
       "      <td>NaN</td>\n",
       "      <td>NaN</td>\n",
       "    </tr>\n",
       "    <tr>\n",
       "      <th>mean</th>\n",
       "      <td>NaN</td>\n",
       "      <td>100.613445</td>\n",
       "      <td>NaN</td>\n",
       "      <td>NaN</td>\n",
       "      <td>NaN</td>\n",
       "      <td>NaN</td>\n",
       "      <td>NaN</td>\n",
       "      <td>16.460938</td>\n",
       "      <td>15.750000</td>\n",
       "      <td>15.703125</td>\n",
       "      <td>...</td>\n",
       "      <td>553.992188</td>\n",
       "      <td>561.039062</td>\n",
       "      <td>1115.000000</td>\n",
       "      <td>24.054688</td>\n",
       "      <td>22.898438</td>\n",
       "      <td>23.361237</td>\n",
       "      <td>30643.484375</td>\n",
       "      <td>14417.960938</td>\n",
       "      <td>0.524930</td>\n",
       "      <td>2.539062</td>\n",
       "    </tr>\n",
       "    <tr>\n",
       "      <th>std</th>\n",
       "      <td>NaN</td>\n",
       "      <td>86.081860</td>\n",
       "      <td>NaN</td>\n",
       "      <td>NaN</td>\n",
       "      <td>NaN</td>\n",
       "      <td>NaN</td>\n",
       "      <td>NaN</td>\n",
       "      <td>5.170940</td>\n",
       "      <td>1.441784</td>\n",
       "      <td>1.449189</td>\n",
       "      <td>...</td>\n",
       "      <td>175.298463</td>\n",
       "      <td>182.417942</td>\n",
       "      <td>357.184969</td>\n",
       "      <td>8.341442</td>\n",
       "      <td>7.821674</td>\n",
       "      <td>8.013346</td>\n",
       "      <td>19307.277479</td>\n",
       "      <td>10965.225020</td>\n",
       "      <td>0.291446</td>\n",
       "      <td>0.587298</td>\n",
       "    </tr>\n",
       "    <tr>\n",
       "      <th>min</th>\n",
       "      <td>NaN</td>\n",
       "      <td>1.000000</td>\n",
       "      <td>NaN</td>\n",
       "      <td>NaN</td>\n",
       "      <td>NaN</td>\n",
       "      <td>NaN</td>\n",
       "      <td>NaN</td>\n",
       "      <td>15.000000</td>\n",
       "      <td>15.000000</td>\n",
       "      <td>15.000000</td>\n",
       "      <td>...</td>\n",
       "      <td>0.000000</td>\n",
       "      <td>0.000000</td>\n",
       "      <td>0.000000</td>\n",
       "      <td>0.000000</td>\n",
       "      <td>0.000000</td>\n",
       "      <td>0.000000</td>\n",
       "      <td>5033.000000</td>\n",
       "      <td>536.000000</td>\n",
       "      <td>0.050065</td>\n",
       "      <td>1.000000</td>\n",
       "    </tr>\n",
       "    <tr>\n",
       "      <th>25%</th>\n",
       "      <td>NaN</td>\n",
       "      <td>35.000000</td>\n",
       "      <td>NaN</td>\n",
       "      <td>NaN</td>\n",
       "      <td>NaN</td>\n",
       "      <td>NaN</td>\n",
       "      <td>NaN</td>\n",
       "      <td>15.000000</td>\n",
       "      <td>15.000000</td>\n",
       "      <td>15.000000</td>\n",
       "      <td>...</td>\n",
       "      <td>540.000000</td>\n",
       "      <td>530.000000</td>\n",
       "      <td>1070.000000</td>\n",
       "      <td>21.000000</td>\n",
       "      <td>21.000000</td>\n",
       "      <td>21.102626</td>\n",
       "      <td>16843.250000</td>\n",
       "      <td>5868.750000</td>\n",
       "      <td>0.213032</td>\n",
       "      <td>2.000000</td>\n",
       "    </tr>\n",
       "    <tr>\n",
       "      <th>50%</th>\n",
       "      <td>NaN</td>\n",
       "      <td>77.000000</td>\n",
       "      <td>NaN</td>\n",
       "      <td>NaN</td>\n",
       "      <td>NaN</td>\n",
       "      <td>NaN</td>\n",
       "      <td>NaN</td>\n",
       "      <td>15.000000</td>\n",
       "      <td>15.000000</td>\n",
       "      <td>15.000000</td>\n",
       "      <td>...</td>\n",
       "      <td>580.000000</td>\n",
       "      <td>580.000000</td>\n",
       "      <td>1165.000000</td>\n",
       "      <td>25.000000</td>\n",
       "      <td>24.000000</td>\n",
       "      <td>24.312309</td>\n",
       "      <td>28077.500000</td>\n",
       "      <td>13617.000000</td>\n",
       "      <td>0.632867</td>\n",
       "      <td>3.000000</td>\n",
       "    </tr>\n",
       "    <tr>\n",
       "      <th>75%</th>\n",
       "      <td>NaN</td>\n",
       "      <td>144.000000</td>\n",
       "      <td>NaN</td>\n",
       "      <td>NaN</td>\n",
       "      <td>NaN</td>\n",
       "      <td>NaN</td>\n",
       "      <td>NaN</td>\n",
       "      <td>15.000000</td>\n",
       "      <td>16.000000</td>\n",
       "      <td>16.000000</td>\n",
       "      <td>...</td>\n",
       "      <td>650.000000</td>\n",
       "      <td>670.000000</td>\n",
       "      <td>1312.500000</td>\n",
       "      <td>30.000000</td>\n",
       "      <td>28.000000</td>\n",
       "      <td>28.644020</td>\n",
       "      <td>40351.750000</td>\n",
       "      <td>18914.750000</td>\n",
       "      <td>0.778732</td>\n",
       "      <td>3.000000</td>\n",
       "    </tr>\n",
       "    <tr>\n",
       "      <th>max</th>\n",
       "      <td>NaN</td>\n",
       "      <td>385.000000</td>\n",
       "      <td>NaN</td>\n",
       "      <td>NaN</td>\n",
       "      <td>NaN</td>\n",
       "      <td>NaN</td>\n",
       "      <td>NaN</td>\n",
       "      <td>59.000000</td>\n",
       "      <td>21.000000</td>\n",
       "      <td>21.000000</td>\n",
       "      <td>...</td>\n",
       "      <td>740.000000</td>\n",
       "      <td>790.000000</td>\n",
       "      <td>1530.000000</td>\n",
       "      <td>35.000000</td>\n",
       "      <td>34.000000</td>\n",
       "      <td>34.432584</td>\n",
       "      <td>108870.000000</td>\n",
       "      <td>74604.000000</td>\n",
       "      <td>0.963559</td>\n",
       "      <td>3.000000</td>\n",
       "    </tr>\n",
       "  </tbody>\n",
       "</table>\n",
       "<p>11 rows × 104 columns</p>\n",
       "</div>"
      ],
      "text/plain": [
       "                   name    rankings   D1                          location  \\\n",
       "count               128  119.000000  128                               128   \n",
       "unique              128         NaN    2                               115   \n",
       "top     Amherst College         NaN    Y  Chicago, Illinois, United States   \n",
       "freq                  1         NaN  108                                 4   \n",
       "mean                NaN  100.613445  NaN                               NaN   \n",
       "std                 NaN   86.081860  NaN                               NaN   \n",
       "min                 NaN    1.000000  NaN                               NaN   \n",
       "25%                 NaN   35.000000  NaN                               NaN   \n",
       "50%                 NaN   77.000000  NaN                               NaN   \n",
       "75%                 NaN  144.000000  NaN                               NaN   \n",
       "max                 NaN  385.000000  NaN                               NaN   \n",
       "\n",
       "             subreddit     city stabbr   basic2000   basic2005   basic2010  \\\n",
       "count              128      128    128  128.000000  128.000000  128.000000   \n",
       "unique             128      114     47         NaN         NaN         NaN   \n",
       "top     amherstcollege  Chicago     CA         NaN         NaN         NaN   \n",
       "freq                 1        4     10         NaN         NaN         NaN   \n",
       "mean               NaN      NaN    NaN   16.460938   15.750000   15.703125   \n",
       "std                NaN      NaN    NaN    5.170940    1.441784    1.449189   \n",
       "min                NaN      NaN    NaN   15.000000   15.000000   15.000000   \n",
       "25%                NaN      NaN    NaN   15.000000   15.000000   15.000000   \n",
       "50%                NaN      NaN    NaN   15.000000   15.000000   15.000000   \n",
       "75%                NaN      NaN    NaN   15.000000   16.000000   16.000000   \n",
       "max                NaN      NaN    NaN   59.000000   21.000000   21.000000   \n",
       "\n",
       "        ...      satv25      satm25     satcmb25    actcmp25  satacteq25  \\\n",
       "count   ...  128.000000  128.000000   128.000000  128.000000  128.000000   \n",
       "unique  ...         NaN         NaN          NaN         NaN         NaN   \n",
       "top     ...         NaN         NaN          NaN         NaN         NaN   \n",
       "freq    ...         NaN         NaN          NaN         NaN         NaN   \n",
       "mean    ...  553.992188  561.039062  1115.000000   24.054688   22.898438   \n",
       "std     ...  175.298463  182.417942   357.184969    8.341442    7.821674   \n",
       "min     ...    0.000000    0.000000     0.000000    0.000000    0.000000   \n",
       "25%     ...  540.000000  530.000000  1070.000000   21.000000   21.000000   \n",
       "50%     ...  580.000000  580.000000  1165.000000   25.000000   24.000000   \n",
       "75%     ...  650.000000  670.000000  1312.500000   30.000000   28.000000   \n",
       "max     ...  740.000000  790.000000  1530.000000   35.000000   34.000000   \n",
       "\n",
       "          actfinal        appsf20     admitsf20  pctadmitf20    selindex  \n",
       "count   128.000000     128.000000    128.000000   128.000000  128.000000  \n",
       "unique         NaN            NaN           NaN          NaN         NaN  \n",
       "top            NaN            NaN           NaN          NaN         NaN  \n",
       "freq           NaN            NaN           NaN          NaN         NaN  \n",
       "mean     23.361237   30643.484375  14417.960938     0.524930    2.539062  \n",
       "std       8.013346   19307.277479  10965.225020     0.291446    0.587298  \n",
       "min       0.000000    5033.000000    536.000000     0.050065    1.000000  \n",
       "25%      21.102626   16843.250000   5868.750000     0.213032    2.000000  \n",
       "50%      24.312309   28077.500000  13617.000000     0.632867    3.000000  \n",
       "75%      28.644020   40351.750000  18914.750000     0.778732    3.000000  \n",
       "max      34.432584  108870.000000  74604.000000     0.963559    3.000000  \n",
       "\n",
       "[11 rows x 104 columns]"
      ]
     },
     "execution_count": 4,
     "metadata": {},
     "output_type": "execute_result"
    }
   ],
   "source": [
    "data.describe(include='all')"
   ]
  },
  {
   "cell_type": "code",
   "execution_count": 3,
   "id": "f8378c8e-18c5-483c-a98d-a71ad57af8a5",
   "metadata": {
    "tags": []
   },
   "outputs": [
    {
     "data": {
      "text/plain": [
       "Series([], dtype: float64)"
      ]
     },
     "execution_count": 3,
     "metadata": {},
     "output_type": "execute_result"
    }
   ],
   "source": [
    "data.value_counts(normalize=True)"
   ]
  },
  {
   "cell_type": "markdown",
   "id": "fe73b4a2-542d-4c58-83f7-c9c3a57ca47f",
   "metadata": {
    "tags": []
   },
   "source": [
    "# GLM"
   ]
  },
  {
   "cell_type": "code",
   "execution_count": 6,
   "id": "ad7f2d70-34a1-4a91-8a31-3a1e55a7f173",
   "metadata": {
    "tags": []
   },
   "outputs": [],
   "source": [
    "\n",
    "\n",
    "STATE2REG=dict()\n",
    "for key, val in REGION.items():\n",
    "    for s in val:\n",
    "        STATE2REG[s]=key\n",
    "\n",
    "def get_senti_class(e):\n",
    "    return e>0.5"
   ]
  },
  {
   "cell_type": "code",
   "execution_count": 7,
   "id": "d2ef4d5f-a918-44b7-abf4-81ca1ffc002e",
   "metadata": {
    "tags": []
   },
   "outputs": [],
   "source": [
    "#drop columbia for now. Remember to add it back!!!\n",
    "name=DEMO_PATH+'colleges-CCIHE-final.csv'\n",
    "data=pd.read_csv(name ,skip_blank_lines=True)\n",
    "data=data.loc[0:(len(data.index)),['name','subreddit','stabbr','sector']]\n",
    "\n",
    "# key: subred name. val: [region, sector, school name]\n",
    "df2dic=dict()\n",
    "for i in range(len(data.index)):\n",
    "    df2dic[data.loc[i,'subreddit']]=[STATE2REG[data.loc[i,'stabbr']],\n",
    "                                    data.loc[i,'sector'],\n",
    "                                    data.loc[i,'name']]\n"
   ]
  },
  {
   "cell_type": "code",
   "execution_count": 8,
   "id": "7d844e8b-cd44-4a55-b6e8-3d70b7dc623f",
   "metadata": {
    "tags": []
   },
   "outputs": [
    {
     "name": "stderr",
     "output_type": "stream",
     "text": [
      "100%|█████████████████████████████████████████████████████████████████████| 128/128 [03:08<00:00,  1.47s/it]\n"
     ]
    }
   ],
   "source": [
    "df=pd.DataFrame(columns=['school','subred','year','sector','region',\n",
    "                         'senti'])\n",
    "os.chdir(RES_PATH)\n",
    "for key, val in tqdm.tqdm(df2dic.items()):\n",
    "    for year in range(2019,2023,1):\n",
    "        name=key+'_'+str(year)+'_prob.csv'\n",
    "        #ry:\n",
    "        data=pd.read_csv(name,skip_blank_lines=True)\n",
    "        df_temp=pd.DataFrame(columns=['school','subred','year','sector','region',\n",
    "                         'senti'])\n",
    "        df_temp['senti']=data['esm_neg'].apply(get_senti_class)\n",
    "        df_temp['school']=df2dic[key][2]\n",
    "        df_temp['subred']=key\n",
    "        df_temp['year']=str(year)\n",
    "        df_temp['sector']=str(df2dic[key][1])\n",
    "        df_temp['region']=str(df2dic[key][0])\n",
    "        df = pd.concat([df,df_temp])\n",
    "        \n",
    "        '''\n",
    "        for i in range(len(data.index)):\n",
    "            df.loc[len(df.index)]=[df2dic[key][2],\n",
    "                                    key,\n",
    "                                    year,\n",
    "                                    df2dic[key][1],\n",
    "                                    df2dic[key][0],\n",
    "                                    data.loc[i,'esm_neg']>0.5]\n",
    "        '''\n",
    "        #xcept:\n",
    "        #   continue"
   ]
  },
  {
   "cell_type": "code",
   "execution_count": 9,
   "id": "c00f2e05-8378-4776-9cec-10c0ca50e644",
   "metadata": {
    "tags": []
   },
   "outputs": [],
   "source": [
    "os.chdir(RES_PATH)\n",
    "df.reset_index()\n",
    "df.loc[:,'year']=(df.year).apply(str)\n",
    "df.to_csv('GLM.csv', header=True,index=False,encoding=\"utf-8-sig\")\n",
    "\n",
    "os.chdir(RES_PATH)\n",
    "\n",
    "#df=pd.read_csv('GLM.csv',skip_blank_lines=True)\n",
    "df.loc[:,'year']=(df.year).apply(str)"
   ]
  },
  {
   "cell_type": "code",
   "execution_count": 94,
   "id": "1b8b8676-384a-421f-9cbd-61399ba3dfe2",
   "metadata": {
    "tags": []
   },
   "outputs": [
    {
     "name": "stdout",
     "output_type": "stream",
     "text": [
      "                                                   Generalized Linear Model Regression Results                                                   \n",
      "=================================================================================================================================================\n",
      "Dep. Variable:     ['C(senti, Treatment(reference=1))[False]', 'C(senti, Treatment(reference=1))[True]']   No. Observations:              4095922\n",
      "Model:                                                                                               GLM   Df Residuals:                  4095914\n",
      "Model Family:                                                                                   Binomial   Df Model:                            7\n",
      "Link Function:                                                                                     Logit   Scale:                          1.0000\n",
      "Method:                                                                                             IRLS   Log-Likelihood:            -2.6830e+06\n",
      "Date:                                                                                   Tue, 06 Jun 2023   Deviance:                   5.3660e+06\n",
      "Time:                                                                                           08:30:55   Pearson chi2:                 4.10e+06\n",
      "No. Iterations:                                                                                        5   Pseudo R-squ. (CS):           0.002583\n",
      "Covariance Type:                                                                               nonrobust                                         \n",
      "=======================================================================================\n",
      "                          coef    std err          z      P>|z|      [0.025      0.975]\n",
      "---------------------------------------------------------------------------------------\n",
      "Intercept               0.6178      0.003    206.305      0.000       0.612       0.624\n",
      "year[T.2020]           -0.2360      0.003    -78.838      0.000      -0.242      -0.230\n",
      "year[T.2021]           -0.0707      0.003    -23.606      0.000      -0.077      -0.065\n",
      "year[T.2022]           -0.1085      0.003    -34.656      0.000      -0.115      -0.102\n",
      "sector[T.2]             0.1961      0.003     59.643      0.000       0.190       0.203\n",
      "region[T.NORTHEAST]    -0.0216      0.003     -6.890      0.000      -0.028      -0.015\n",
      "region[T.SOUTH]         0.0296      0.003     10.456      0.000       0.024       0.035\n",
      "region[T.WEST]          0.0762      0.003     24.238      0.000       0.070       0.082\n",
      "=======================================================================================\n"
     ]
    }
   ],
   "source": [
    "import statsmodels.formula.api as smf\n",
    "import statsmodels.api as sm\n",
    "\n",
    "#negative sentiment is true, nonneg ia false\n",
    "#Use negativve as reference class\n",
    "formula = 'senti ~ year+sector+region'\n",
    "formula = 'C(senti, Treatment(reference=1)) ~ year+sector+region'\n",
    "\n",
    "model = smf.glm(formula = formula, data=df, family=sm.families.Binomial())\n",
    "result = model.fit()\n",
    "print(result.summary())\n"
   ]
  },
  {
   "cell_type": "code",
   "execution_count": 15,
   "id": "5fcbdd50-6ee2-4e5e-b5ec-5e7190749e2b",
   "metadata": {
    "tags": []
   },
   "outputs": [
    {
     "data": {
      "text/html": [
       "<div>\n",
       "<style scoped>\n",
       "    .dataframe tbody tr th:only-of-type {\n",
       "        vertical-align: middle;\n",
       "    }\n",
       "\n",
       "    .dataframe tbody tr th {\n",
       "        vertical-align: top;\n",
       "    }\n",
       "\n",
       "    .dataframe thead th {\n",
       "        text-align: right;\n",
       "    }\n",
       "</style>\n",
       "<table border=\"1\" class=\"dataframe\">\n",
       "  <thead>\n",
       "    <tr style=\"text-align: right;\">\n",
       "      <th></th>\n",
       "      <th>school</th>\n",
       "      <th>subred</th>\n",
       "      <th>year</th>\n",
       "      <th>sector</th>\n",
       "      <th>region</th>\n",
       "      <th>senti</th>\n",
       "    </tr>\n",
       "  </thead>\n",
       "  <tbody>\n",
       "    <tr>\n",
       "      <th>0</th>\n",
       "      <td>Amherst College</td>\n",
       "      <td>amherstcollege</td>\n",
       "      <td>2019</td>\n",
       "      <td>2</td>\n",
       "      <td>NORTHEAST</td>\n",
       "      <td>False</td>\n",
       "    </tr>\n",
       "    <tr>\n",
       "      <th>1</th>\n",
       "      <td>Amherst College</td>\n",
       "      <td>amherstcollege</td>\n",
       "      <td>2019</td>\n",
       "      <td>2</td>\n",
       "      <td>NORTHEAST</td>\n",
       "      <td>False</td>\n",
       "    </tr>\n",
       "    <tr>\n",
       "      <th>2</th>\n",
       "      <td>Amherst College</td>\n",
       "      <td>amherstcollege</td>\n",
       "      <td>2019</td>\n",
       "      <td>2</td>\n",
       "      <td>NORTHEAST</td>\n",
       "      <td>False</td>\n",
       "    </tr>\n",
       "    <tr>\n",
       "      <th>3</th>\n",
       "      <td>Amherst College</td>\n",
       "      <td>amherstcollege</td>\n",
       "      <td>2019</td>\n",
       "      <td>2</td>\n",
       "      <td>NORTHEAST</td>\n",
       "      <td>False</td>\n",
       "    </tr>\n",
       "    <tr>\n",
       "      <th>4</th>\n",
       "      <td>Amherst College</td>\n",
       "      <td>amherstcollege</td>\n",
       "      <td>2019</td>\n",
       "      <td>2</td>\n",
       "      <td>NORTHEAST</td>\n",
       "      <td>True</td>\n",
       "    </tr>\n",
       "    <tr>\n",
       "      <th>...</th>\n",
       "      <td>...</td>\n",
       "      <td>...</td>\n",
       "      <td>...</td>\n",
       "      <td>...</td>\n",
       "      <td>...</td>\n",
       "      <td>...</td>\n",
       "    </tr>\n",
       "    <tr>\n",
       "      <th>8469</th>\n",
       "      <td>Columbia University in the City of New York</td>\n",
       "      <td>columbia</td>\n",
       "      <td>2022</td>\n",
       "      <td>2</td>\n",
       "      <td>NORTHEAST</td>\n",
       "      <td>False</td>\n",
       "    </tr>\n",
       "    <tr>\n",
       "      <th>8470</th>\n",
       "      <td>Columbia University in the City of New York</td>\n",
       "      <td>columbia</td>\n",
       "      <td>2022</td>\n",
       "      <td>2</td>\n",
       "      <td>NORTHEAST</td>\n",
       "      <td>False</td>\n",
       "    </tr>\n",
       "    <tr>\n",
       "      <th>8471</th>\n",
       "      <td>Columbia University in the City of New York</td>\n",
       "      <td>columbia</td>\n",
       "      <td>2022</td>\n",
       "      <td>2</td>\n",
       "      <td>NORTHEAST</td>\n",
       "      <td>False</td>\n",
       "    </tr>\n",
       "    <tr>\n",
       "      <th>8472</th>\n",
       "      <td>Columbia University in the City of New York</td>\n",
       "      <td>columbia</td>\n",
       "      <td>2022</td>\n",
       "      <td>2</td>\n",
       "      <td>NORTHEAST</td>\n",
       "      <td>False</td>\n",
       "    </tr>\n",
       "    <tr>\n",
       "      <th>8473</th>\n",
       "      <td>Columbia University in the City of New York</td>\n",
       "      <td>columbia</td>\n",
       "      <td>2022</td>\n",
       "      <td>2</td>\n",
       "      <td>NORTHEAST</td>\n",
       "      <td>False</td>\n",
       "    </tr>\n",
       "  </tbody>\n",
       "</table>\n",
       "<p>4129170 rows × 6 columns</p>\n",
       "</div>"
      ],
      "text/plain": [
       "                                           school          subred  year  \\\n",
       "0                                 Amherst College  amherstcollege  2019   \n",
       "1                                 Amherst College  amherstcollege  2019   \n",
       "2                                 Amherst College  amherstcollege  2019   \n",
       "3                                 Amherst College  amherstcollege  2019   \n",
       "4                                 Amherst College  amherstcollege  2019   \n",
       "...                                           ...             ...   ...   \n",
       "8469  Columbia University in the City of New York        columbia  2022   \n",
       "8470  Columbia University in the City of New York        columbia  2022   \n",
       "8471  Columbia University in the City of New York        columbia  2022   \n",
       "8472  Columbia University in the City of New York        columbia  2022   \n",
       "8473  Columbia University in the City of New York        columbia  2022   \n",
       "\n",
       "     sector     region  senti  \n",
       "0         2  NORTHEAST  False  \n",
       "1         2  NORTHEAST  False  \n",
       "2         2  NORTHEAST  False  \n",
       "3         2  NORTHEAST  False  \n",
       "4         2  NORTHEAST   True  \n",
       "...     ...        ...    ...  \n",
       "8469      2  NORTHEAST  False  \n",
       "8470      2  NORTHEAST  False  \n",
       "8471      2  NORTHEAST  False  \n",
       "8472      2  NORTHEAST  False  \n",
       "8473      2  NORTHEAST  False  \n",
       "\n",
       "[4129170 rows x 6 columns]"
      ]
     },
     "execution_count": 15,
     "metadata": {},
     "output_type": "execute_result"
    }
   ],
   "source": [
    "(df.columns)\n",
    "df"
   ]
  },
  {
   "cell_type": "markdown",
   "id": "63ec0582-014b-41d7-8949-2879b6635097",
   "metadata": {},
   "source": [
    "# GLMM"
   ]
  },
  {
   "cell_type": "code",
   "execution_count": 6,
   "id": "335c4213-6aba-4dae-9472-6dbeccd7c7cd",
   "metadata": {
    "tags": []
   },
   "outputs": [
    {
     "ename": "NameError",
     "evalue": "name 'tbltest' is not defined",
     "output_type": "error",
     "traceback": [
      "\u001b[1;31m---------------------------------------------------------------------------\u001b[0m",
      "\u001b[1;31mNameError\u001b[0m                                 Traceback (most recent call last)",
      "\u001b[1;32m~\\AppData\\Local\\Temp\\ipykernel_3456\\2670332109.py\u001b[0m in \u001b[0;36m<module>\u001b[1;34m\u001b[0m\n\u001b[0;32m      4\u001b[0m \u001b[0mformula\u001b[0m \u001b[1;33m=\u001b[0m \u001b[1;34m\"rt ~ group*orientation*identity\"\u001b[0m\u001b[1;33m\u001b[0m\u001b[1;33m\u001b[0m\u001b[0m\n\u001b[0;32m      5\u001b[0m \u001b[1;31m#formula = \"rt ~ -1 + cbcond\"\u001b[0m\u001b[1;33m\u001b[0m\u001b[1;33m\u001b[0m\u001b[1;33m\u001b[0m\u001b[0m\n\u001b[1;32m----> 6\u001b[1;33m \u001b[0mmd\u001b[0m  \u001b[1;33m=\u001b[0m \u001b[0msmf\u001b[0m\u001b[1;33m.\u001b[0m\u001b[0mmixedlm\u001b[0m\u001b[1;33m(\u001b[0m\u001b[0mformula\u001b[0m\u001b[1;33m,\u001b[0m \u001b[0mtbltest\u001b[0m\u001b[1;33m,\u001b[0m \u001b[0mgroups\u001b[0m\u001b[1;33m=\u001b[0m\u001b[0mtbltest\u001b[0m\u001b[1;33m[\u001b[0m\u001b[1;34m\"subj\"\u001b[0m\u001b[1;33m]\u001b[0m\u001b[1;33m)\u001b[0m\u001b[1;33m\u001b[0m\u001b[1;33m\u001b[0m\u001b[0m\n\u001b[0m\u001b[0;32m      7\u001b[0m \u001b[0mmdf\u001b[0m \u001b[1;33m=\u001b[0m \u001b[0mmd\u001b[0m\u001b[1;33m.\u001b[0m\u001b[0mfit\u001b[0m\u001b[1;33m(\u001b[0m\u001b[1;33m)\u001b[0m\u001b[1;33m\u001b[0m\u001b[1;33m\u001b[0m\u001b[0m\n\u001b[0;32m      8\u001b[0m \u001b[0mprint\u001b[0m\u001b[1;33m(\u001b[0m\u001b[0mmdf\u001b[0m\u001b[1;33m.\u001b[0m\u001b[0msummary\u001b[0m\u001b[1;33m(\u001b[0m\u001b[1;33m)\u001b[0m\u001b[1;33m)\u001b[0m\u001b[1;33m\u001b[0m\u001b[1;33m\u001b[0m\u001b[0m\n",
      "\u001b[1;31mNameError\u001b[0m: name 'tbltest' is not defined"
     ]
    }
   ],
   "source": [
    "import statsmodels.formula.api as smf\n",
    "from patsy import dmatrices\n",
    "\n",
    "\n",
    "formula = \"rt ~ group*orientation*identity\"\n",
    "formula = 'senti ~ year+sector+region'\n",
    "formula = 'C(senti, Treatment(reference=1)) ~ year+sector+region'\n",
    "model = smf.glm(formula = formula, data=df, family=sm.families.Binomial())\n",
    "result = model.fit()\n",
    "print(result.summary())\n",
    "\n",
    "#formula = \"rt ~ -1 + cbcond\"\n",
    "md  = smf.mixedlm(formula, df, groups=tbltest[\"subj\"])\n",
    "mdf = md.fit()\n",
    "print(mdf.summary())"
   ]
  },
  {
   "cell_type": "code",
   "execution_count": null,
   "id": "23ff6937-56a2-4be7-8995-b1b7680bfd6e",
   "metadata": {},
   "outputs": [],
   "source": []
  },
  {
   "cell_type": "code",
   "execution_count": null,
   "id": "e7ba662e-725b-4ed8-9f37-c82f4a93b7e8",
   "metadata": {},
   "outputs": [],
   "source": []
  },
  {
   "cell_type": "code",
   "execution_count": null,
   "id": "7b6ad835-f268-4027-8d08-7577fc657410",
   "metadata": {},
   "outputs": [],
   "source": []
  },
  {
   "cell_type": "code",
   "execution_count": null,
   "id": "45bfc56b-71a9-4b77-bb70-a66dbc69c9b3",
   "metadata": {},
   "outputs": [],
   "source": []
  },
  {
   "cell_type": "code",
   "execution_count": null,
   "id": "156a9514-4968-4d04-9b42-ab8ce00d4187",
   "metadata": {},
   "outputs": [],
   "source": []
  },
  {
   "cell_type": "code",
   "execution_count": null,
   "id": "f3df122b-191d-4bb3-b3da-bf0a8b2bfda1",
   "metadata": {},
   "outputs": [],
   "source": []
  },
  {
   "cell_type": "markdown",
   "id": "66b6d276-e21d-441b-b229-b3914393be8e",
   "metadata": {},
   "source": [
    "# Average sentiment for each region"
   ]
  },
  {
   "cell_type": "code",
   "execution_count": 97,
   "id": "1acb09e8-c617-4408-90a8-813b7013ac8c",
   "metadata": {},
   "outputs": [
    {
     "name": "stderr",
     "output_type": "stream",
     "text": [
      "100%|████████████████████████████████████████████████████████████████████████████████| 127/127 [00:17<00:00,  7.42it/s]"
     ]
    },
    {
     "name": "stdout",
     "output_type": "stream",
     "text": [
      "WEST\n",
      "0.3249158159883336\n",
      "MIDWEST\n",
      "0.34510251170845807\n",
      "NORTHEAST\n",
      "0.34293517413416774\n",
      "SOUTH\n",
      "0.3467506704636567\n"
     ]
    },
    {
     "name": "stderr",
     "output_type": "stream",
     "text": [
      "\n"
     ]
    }
   ],
   "source": [
    "dic=dict()\n",
    "dic['WEST']=[0,0]\n",
    "dic['MIDWEST']=[0,0]\n",
    "dic['NORTHEAST']=[0,0]\n",
    "dic['SOUTH']=[0,0]\n",
    "\n",
    "for key, val in tqdm.tqdm(df2dic.items()):\n",
    "    #rint(key)\n",
    "    name=key+'_'+YEAR+'_prob.csv'\n",
    "    reg=val[0]\n",
    "    #rint(reg)\n",
    "    df=pd.read_csv(name,encoding=\"utf-8-sig\")\n",
    "    dic[reg][1]+=len(df.index)\n",
    "    dic[reg][0]+=sum(df['esm_neg']>0.5)\n",
    "for key, val in dic.items():\n",
    "    print(key)\n",
    "    print(val[0]/val[1])"
   ]
  },
  {
   "cell_type": "code",
   "execution_count": 55,
   "id": "82fca0e0-7554-4acf-b46e-e0f36b4b444e",
   "metadata": {},
   "outputs": [
    {
     "data": {
      "text/plain": [
       "{'WEST': [290752, 853326],\n",
       " 'MIDWEST': [290752, 853326],\n",
       " 'NORTHEAST': [290752, 853326],\n",
       " 'SOUTH': [290752, 853326]}"
      ]
     },
     "execution_count": 55,
     "metadata": {},
     "output_type": "execute_result"
    }
   ],
   "source": [
    "dic"
   ]
  },
  {
   "cell_type": "code",
   "execution_count": null,
   "id": "6e3d34ab-5f8e-4cd1-844e-95cd683c2f48",
   "metadata": {},
   "outputs": [],
   "source": []
  },
  {
   "cell_type": "code",
   "execution_count": null,
   "id": "7abfac69-f45a-4d94-afd5-44fd34e5d6cc",
   "metadata": {},
   "outputs": [],
   "source": []
  }
 ],
 "metadata": {
  "kernelspec": {
   "display_name": "Python 3 (ipykernel)",
   "language": "python",
   "name": "python3"
  },
  "language_info": {
   "codemirror_mode": {
    "name": "ipython",
    "version": 3
   },
   "file_extension": ".py",
   "mimetype": "text/x-python",
   "name": "python",
   "nbconvert_exporter": "python",
   "pygments_lexer": "ipython3",
   "version": "3.7.9"
  }
 },
 "nbformat": 4,
 "nbformat_minor": 5
}
