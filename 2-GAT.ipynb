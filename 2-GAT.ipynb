{
 "cells": [
  {
   "cell_type": "code",
   "execution_count": 1,
   "metadata": {
    "id": "CuzV4MnsuoEz",
    "tags": []
   },
   "outputs": [
    {
     "name": "stdout",
     "output_type": "stream",
     "text": [
      "Python 3.7.9\n"
     ]
    },
    {
     "name": "stderr",
     "output_type": "stream",
     "text": [
      "c:\\users\\14106\\appdata\\local\\programs\\python\\python37\\lib\\site-packages\\tensorflow\\python\\framework\\dtypes.py:526: FutureWarning: Passing (type, 1) or '1type' as a synonym of type is deprecated; in a future version of numpy, it will be understood as (type, (1,)) / '(1,)type'.\n",
      "  _np_qint8 = np.dtype([(\"qint8\", np.int8, 1)])\n",
      "c:\\users\\14106\\appdata\\local\\programs\\python\\python37\\lib\\site-packages\\tensorflow\\python\\framework\\dtypes.py:527: FutureWarning: Passing (type, 1) or '1type' as a synonym of type is deprecated; in a future version of numpy, it will be understood as (type, (1,)) / '(1,)type'.\n",
      "  _np_quint8 = np.dtype([(\"quint8\", np.uint8, 1)])\n",
      "c:\\users\\14106\\appdata\\local\\programs\\python\\python37\\lib\\site-packages\\tensorflow\\python\\framework\\dtypes.py:528: FutureWarning: Passing (type, 1) or '1type' as a synonym of type is deprecated; in a future version of numpy, it will be understood as (type, (1,)) / '(1,)type'.\n",
      "  _np_qint16 = np.dtype([(\"qint16\", np.int16, 1)])\n",
      "c:\\users\\14106\\appdata\\local\\programs\\python\\python37\\lib\\site-packages\\tensorflow\\python\\framework\\dtypes.py:529: FutureWarning: Passing (type, 1) or '1type' as a synonym of type is deprecated; in a future version of numpy, it will be understood as (type, (1,)) / '(1,)type'.\n",
      "  _np_quint16 = np.dtype([(\"quint16\", np.uint16, 1)])\n",
      "c:\\users\\14106\\appdata\\local\\programs\\python\\python37\\lib\\site-packages\\tensorflow\\python\\framework\\dtypes.py:530: FutureWarning: Passing (type, 1) or '1type' as a synonym of type is deprecated; in a future version of numpy, it will be understood as (type, (1,)) / '(1,)type'.\n",
      "  _np_qint32 = np.dtype([(\"qint32\", np.int32, 1)])\n",
      "c:\\users\\14106\\appdata\\local\\programs\\python\\python37\\lib\\site-packages\\tensorflow\\python\\framework\\dtypes.py:535: FutureWarning: Passing (type, 1) or '1type' as a synonym of type is deprecated; in a future version of numpy, it will be understood as (type, (1,)) / '(1,)type'.\n",
      "  np_resource = np.dtype([(\"resource\", np.ubyte, 1)])\n"
     ]
    },
    {
     "name": "stdout",
     "output_type": "stream",
     "text": [
      "1.13.1\n"
     ]
    }
   ],
   "source": [
    "!python --version\n",
    "import tensorflow as tf\n",
    "print(tf.__version__)"
   ]
  },
  {
   "cell_type": "code",
   "execution_count": 1,
   "metadata": {
    "colab": {
     "base_uri": "https://localhost:8080/",
     "height": 381
    },
    "executionInfo": {
     "elapsed": 508,
     "status": "error",
     "timestamp": 1680940304378,
     "user": {
      "displayName": "ava lee",
      "userId": "04676147846523200027"
     },
     "user_tz": 240
    },
    "id": "kNH0ul2vaFP4",
    "outputId": "d1a04226-cf37-47e7-ead9-07f67143366e",
    "tags": []
   },
   "outputs": [
    {
     "name": "stderr",
     "output_type": "stream",
     "text": [
      "c:\\users\\14106\\appdata\\local\\programs\\python\\python37\\lib\\site-packages\\tensorflow\\python\\framework\\dtypes.py:526: FutureWarning: Passing (type, 1) or '1type' as a synonym of type is deprecated; in a future version of numpy, it will be understood as (type, (1,)) / '(1,)type'.\n",
      "  _np_qint8 = np.dtype([(\"qint8\", np.int8, 1)])\n",
      "c:\\users\\14106\\appdata\\local\\programs\\python\\python37\\lib\\site-packages\\tensorflow\\python\\framework\\dtypes.py:527: FutureWarning: Passing (type, 1) or '1type' as a synonym of type is deprecated; in a future version of numpy, it will be understood as (type, (1,)) / '(1,)type'.\n",
      "  _np_quint8 = np.dtype([(\"quint8\", np.uint8, 1)])\n",
      "c:\\users\\14106\\appdata\\local\\programs\\python\\python37\\lib\\site-packages\\tensorflow\\python\\framework\\dtypes.py:528: FutureWarning: Passing (type, 1) or '1type' as a synonym of type is deprecated; in a future version of numpy, it will be understood as (type, (1,)) / '(1,)type'.\n",
      "  _np_qint16 = np.dtype([(\"qint16\", np.int16, 1)])\n",
      "c:\\users\\14106\\appdata\\local\\programs\\python\\python37\\lib\\site-packages\\tensorflow\\python\\framework\\dtypes.py:529: FutureWarning: Passing (type, 1) or '1type' as a synonym of type is deprecated; in a future version of numpy, it will be understood as (type, (1,)) / '(1,)type'.\n",
      "  _np_quint16 = np.dtype([(\"quint16\", np.uint16, 1)])\n",
      "c:\\users\\14106\\appdata\\local\\programs\\python\\python37\\lib\\site-packages\\tensorflow\\python\\framework\\dtypes.py:530: FutureWarning: Passing (type, 1) or '1type' as a synonym of type is deprecated; in a future version of numpy, it will be understood as (type, (1,)) / '(1,)type'.\n",
      "  _np_qint32 = np.dtype([(\"qint32\", np.int32, 1)])\n",
      "c:\\users\\14106\\appdata\\local\\programs\\python\\python37\\lib\\site-packages\\tensorflow\\python\\framework\\dtypes.py:535: FutureWarning: Passing (type, 1) or '1type' as a synonym of type is deprecated; in a future version of numpy, it will be understood as (type, (1,)) / '(1,)type'.\n",
      "  np_resource = np.dtype([(\"resource\", np.ubyte, 1)])\n"
     ]
    }
   ],
   "source": [
    "YEAR='2022'\n",
    "SCHOOL_PATH=\"C:\\\\Users\\\\14106\\\\GAT\\\\100school\\\\\"\n",
    "SOURCE_PATH=\"C:\\\\Users\\\\14106\\\\GAT\\\\preprocessed\"+YEAR+\"\\\\\"\n",
    "DEST_PATH='C:\\\\Users\\\\14106\\\\GAT\\\\result\\\\'\n",
    "CODE_PATH=\"C:\\\\Users\\\\14106\\\\GAT\\\\\"\n",
    "ORIG_UNIV=['columbia',\"notredame\",\"uofm\",\"UCSD\",'berkeley',\"Harvard\",\"ucla\", 'dartmouth']\n",
    "ADJ='CCasym'\n",
    "\n",
    "import importlib\n",
    "import time\n",
    "import tqdm\n",
    "import numpy as np\n",
    "import os\n",
    "os.chdir(CODE_PATH)\n",
    "from gat import GAT, HeteGAT, HeteGAT_multi\n",
    "import process\n",
    "import importlib\n",
    "from layers import attn_head, SimpleAttLayer\n",
    "import pandas as pd\n",
    "import pickle\n",
    "import scipy.sparse\n",
    "from scipy.sparse import csc_matrix\n",
    "from scipy import sparse\n",
    "import scipy.io as sio\n",
    "import scipy.sparse as sp\n",
    "import csv \n",
    "import tensorflow as tf\n",
    "\n",
    "def get_school_name():\n",
    "    files = os.listdir(SOURCE_PATH)\n",
    "    files = [f[16:-4] for f in files if f[0:15]=='feature_sampled']\n",
    "    return files\n",
    "\n",
    "def get_subreddits():\n",
    "    os.chdir(SCHOOL_PATH)\n",
    "    dat = pd.read_csv('colleges-CCIHE-final.csv')\n",
    "    schools = []\n",
    "    for i in range(len(dat.name)):\n",
    "        schools.append(dat.loc[i, 'subreddit'])\n",
    "    return schools\n",
    "\n",
    "def sample_mask(idx, l):\n",
    "    \"\"\"Create mask.\"\"\"\n",
    "    mask = np.zeros(l)\n",
    "    mask[idx] = 1\n",
    "    return np.array(mask, dtype=np.bool)\n",
    "\n",
    "def load_data_dblp(s,path=SOURCE_PATH):\n",
    "    #schools = [\"notredame\",\"uofm\",\"columbia\",\"dartmouth\",\"UCSD\",\"berkeley\",\"Harvard\",\"ucla\"]\n",
    "    #s=schools[3]#use this index to control which network we are going to run.\n",
    "    t=\"comment\"\n",
    "    \n",
    "    os.chdir(path)\n",
    "    name=\"label_emt3_\"+s+\".csv\"\n",
    "    #truelabels=pd.read_csv(name,skip_blank_lines=True,header=None)\n",
    "    name=\"feature_sampled_\"+s+\".csv\"\n",
    "    truefeatures=pd.read_csv(name,skip_blank_lines=True,header=None).values\n",
    "    #name=\"feature_\"+s+t+\".npz\"\n",
    "    #truefeatures=scipy.sparse.load_npz(name)\n",
    "    #truefeatures=truefeatures.toarray()\n",
    "\n",
    "    N=truefeatures.shape[0]\n",
    "    name=ADJ+\"_sampled_\"+s+\".npz\"\n",
    "    #name=\"CCasym_\"+s+\".npz\"\n",
    "    dat_cc=scipy.sparse.load_npz(name);\n",
    "    dat_cc.transpose(axes=None, copy=False)\n",
    "    dat_cc=dat_cc.toarray();\n",
    "    rownetworks = [(dat_cc)]\n",
    "\n",
    "    y=np.zeros((N,2))\n",
    "    name=\"train_index_\"+s+\"_cm.p\"\n",
    "    train_idx=np.array([0,1])\n",
    "    val_idx=np.array([2,3])\n",
    "    test_idx=np.array(range(N))\n",
    "    print(N)\n",
    "    \n",
    "    train_mask = sample_mask(train_idx, y.shape[0])\n",
    "    val_mask = sample_mask(val_idx, y.shape[0])\n",
    "    test_mask = sample_mask(test_idx, y.shape[0])# ?? why copy three times? First for center node, 2 for each metapath.\n",
    "    \n",
    "    y_train = np.zeros(y.shape)\n",
    "    y_val = np.zeros(y.shape)\n",
    "    y_test = np.zeros(y.shape)\n",
    "    #y=y.values\n",
    "    #y_train[train_mask, :] = y[train_mask, :]\n",
    "    #y_val[val_mask, :] = y[val_mask, :]\n",
    "    #y_test[test_mask, :] = y[test_mask, :]\n",
    "\n",
    "    # return selected_idx, selected_idx_2\n",
    "    print('y_train:{}, y_val:{}, y_test:{}, train_idx:{}, val_idx:{}, test_idx:{}'.format(y_train.shape,\n",
    "                                                                                          y_val.shape,\n",
    "                                                                                          y_test.shape,\n",
    "                                                                                          train_idx.shape,\n",
    "                                                                                          val_idx.shape,\n",
    "                                                                                          test_idx.shape))\n",
    "    truefeatures_list = [truefeatures, truefeatures]#, truefeatures, truefeatures]# ?? why copy three times? First for center node, 2 for each metapath.    \n",
    "    os.chdir(CODE_PATH)\n",
    "    return rownetworks, truefeatures_list, y_train, y_val, y_test, train_mask, val_mask, test_mask\n",
    "\n"
   ]
  },
  {
   "cell_type": "code",
   "execution_count": 2,
   "metadata": {
    "colab": {
     "base_uri": "https://localhost:8080/"
    },
    "executionInfo": {
     "elapsed": 24771,
     "status": "ok",
     "timestamp": 1663707347019,
     "user": {
      "displayName": "ava lee",
      "userId": "04676147846523200027"
     },
     "user_tz": 240
    },
    "id": "ZNrkrE8wWemc",
    "outputId": "e0530227-3e56-46ad-f7d6-86366e27bc84",
    "tags": []
   },
   "outputs": [
    {
     "name": "stdout",
     "output_type": "stream",
     "text": [
      "model: C:\\Users\\14106\\GAT\\result\\acm_allMP_multi_fea_.ckpt\n"
     ]
    }
   ],
   "source": [
    "#iterate all testing dataset to get prediction of all set\n",
    "#the model used and type of classification depends on paths from previous block\n",
    "#don't run this without running the previous one, unless you specify path again in this script\n",
    "os.environ[\"CUDA_VISIBLE_DEVICES\"] = \"1,2,3\"\n",
    "\n",
    "config = tf.ConfigProto()\n",
    "config.gpu_options.allow_growth = True\n",
    "\n",
    "dataset = 'acm'\n",
    "featype = 'fea'\n",
    "# training params\n",
    "\n",
    "checkpt_file=DEST_PATH+'acm_allMP_multi_fea_.ckpt'\n",
    "#checkpt_file = 'C:\\data\\HAN-modified\\\\tranfer learning\\\\acm_allMP_multi_fea_2cls.ckpt'\n",
    "\n",
    "print('model: {}'.format(checkpt_file))\n",
    "# training params for only CC\n",
    "batch_size = 1\n",
    "nb_epochs = 100\n",
    "patience = 100\n",
    "lr = 0.02  # learning rate\n",
    "l2_coef = 0.15#0.1#0.001  # weight decay\n",
    "# numbers of hidden units per each attention head in each layer\n",
    "hid_units = [8]\n",
    "n_heads = [4, 1]  # additional entry for the output layer\n",
    "residual = False\n",
    "nonlinearity = tf.nn.elu\n",
    "model = HeteGAT_multi\n",
    "\n",
    "# jhy data\n",
    "\n",
    "\n",
    "#path_cur='C:\\\\data\\\\HAN-modified\\\\tranfer learning\\\\'\n",
    "#SOURCE_PATH='C:\\\\data\\\\HAN-modified\\\\data\\\\preprocessed-trial\\\\'\n",
    "\n",
    "schools = get_subreddits()\n",
    "#schools =[\"notredame2019\",\"notredame2020\",\"uofm2019\",\"uofm2020\",\"columbia2019\",\"columbia2020\",\"dartmouth\",\"UCSD2019\",\"UCSD2020\",\"berkeley2019\",\"berkeley2020\",\"Harvard2019\",\"Harvard2020\",\"ucla2019\",\"ucla2020\"]\n",
    "\n",
    "#SOURCE_PATH='C:\\\\data\\\\HAN-modified\\\\tranfer learning\\\\'\n",
    "i=0\n",
    "   "
   ]
  },
  {
   "cell_type": "code",
   "execution_count": 5,
   "metadata": {
    "tags": []
   },
   "outputs": [
    {
     "data": {
      "text/plain": [
       "'williamandmary'"
      ]
     },
     "execution_count": 5,
     "metadata": {},
     "output_type": "execute_result"
    }
   ],
   "source": [
    "schools[65]"
   ]
  },
  {
   "cell_type": "code",
   "execution_count": 6,
   "metadata": {
    "tags": []
   },
   "outputs": [
    {
     "name": "stderr",
     "output_type": "stream",
     "text": [
      "  0%|                                                                                | 0/62 [00:00<?, ?it/s]"
     ]
    },
    {
     "name": "stdout",
     "output_type": "stream",
     "text": [
      "19024\n",
      "y_train:(19024, 2), y_val:(19024, 2), y_test:(19024, 2), train_idx:(2,), val_idx:(2,), test_idx:(19024,)\n",
      "['dim', 2, 19024, 768]\n",
      "['dim', 2, 1, 19024]\n",
      "s\n",
      "build graph...\n",
      "WARNING:tensorflow:From C:\\Users\\14106\\GAT\\layers.py:19: calling dropout (from tensorflow.python.ops.nn_ops) with keep_prob is deprecated and will be removed in a future version.\n",
      "Instructions for updating:\n",
      "Please use `rate` instead of `keep_prob`. Rate should be set to `rate = 1 - keep_prob`.\n",
      "WARNING:tensorflow:From C:\\Users\\14106\\GAT\\layers.py:20: conv1d (from tensorflow.python.layers.convolutional) is deprecated and will be removed in a future version.\n",
      "Instructions for updating:\n",
      "Use keras.layers.conv1d instead.\n",
      "WARNING:tensorflow:From c:\\users\\14106\\appdata\\local\\programs\\python\\python37\\lib\\site-packages\\tensorflow\\python\\framework\\op_def_library.py:263: colocate_with (from tensorflow.python.framework.ops) is deprecated and will be removed in a future version.\n",
      "Instructions for updating:\n",
      "Colocations handled automatically by placer.\n",
      "\n",
      "WARNING: The TensorFlow contrib module will not be included in TensorFlow 2.0.\n",
      "For more information, please see:\n",
      "  * https://github.com/tensorflow/community/blob/master/rfcs/20180907-contrib-sunset.md\n",
      "  * https://github.com/tensorflow/addons\n",
      "If you depend on functionality not listed there, please file an issue.\n",
      "\n",
      "WARNING:tensorflow:From C:\\Users\\14106\\GAT\\gat.py:73: dense (from tensorflow.python.layers.core) is deprecated and will be removed in a future version.\n",
      "Instructions for updating:\n",
      "Use keras.layers.dense instead.\n",
      "de\n",
      "WARNING:tensorflow:From C:\\Users\\14106\\GAT\\base_gattn.py:45: softmax_cross_entropy_with_logits (from tensorflow.python.ops.nn_ops) is deprecated and will be removed in a future version.\n",
      "Instructions for updating:\n",
      "\n",
      "Future major versions of TensorFlow will allow gradients to flow\n",
      "into the labels input on backprop by default.\n",
      "\n",
      "See `tf.nn.softmax_cross_entropy_with_logits_v2`.\n",
      "\n",
      "WARNING:tensorflow:From c:\\users\\14106\\appdata\\local\\programs\\python\\python37\\lib\\site-packages\\tensorflow\\python\\ops\\math_ops.py:3066: to_int32 (from tensorflow.python.ops.math_ops) is deprecated and will be removed in a future version.\n",
      "Instructions for updating:\n",
      "Use tf.cast instead.\n",
      "WARNING:tensorflow:From c:\\users\\14106\\appdata\\local\\programs\\python\\python37\\lib\\site-packages\\tensorflow\\python\\training\\saver.py:1266: checkpoint_exists (from tensorflow.python.training.checkpoint_management) is deprecated and will be removed in a future version.\n",
      "Instructions for updating:\n",
      "Use standard file APIs to check for files with this prefix.\n",
      "INFO:tensorflow:Restoring parameters from C:\\Users\\14106\\GAT\\result\\acm_allMP_multi_fea_.ckpt\n",
      "Model restored.\n",
      "(1, 19024, 768)\n",
      "test start\n",
      "0\n",
      "1\n",
      "1\n"
     ]
    },
    {
     "name": "stderr",
     "output_type": "stream",
     "text": [
      "  2%|█                                                                  | 1/62 [19:35<19:55:26, 1175.84s/it]"
     ]
    },
    {
     "name": "stdout",
     "output_type": "stream",
     "text": [
      "Test loss: 0.0 ; Test accuracy: 0.4359756112098694\n",
      "28416\n",
      "y_train:(28416, 2), y_val:(28416, 2), y_test:(28416, 2), train_idx:(2,), val_idx:(2,), test_idx:(28416,)\n",
      "['dim', 2, 28416, 768]\n",
      "['dim', 2, 1, 28416]\n",
      "s\n",
      "build graph...\n",
      "de\n",
      "INFO:tensorflow:Restoring parameters from C:\\Users\\14106\\GAT\\result\\acm_allMP_multi_fea_.ckpt\n",
      "Model restored.\n",
      "(1, 28416, 768)\n",
      "test start\n",
      "0\n",
      "1\n",
      "1\n"
     ]
    },
    {
     "name": "stderr",
     "output_type": "stream",
     "text": [
      "  3%|██                                                               | 2/62 [1:14:59<40:39:05, 2439.09s/it]"
     ]
    },
    {
     "name": "stdout",
     "output_type": "stream",
     "text": [
      "Test loss: 0.0 ; Test accuracy: 0.4093116521835327\n",
      "749\n",
      "y_train:(749, 2), y_val:(749, 2), y_test:(749, 2), train_idx:(2,), val_idx:(2,), test_idx:(749,)\n",
      "['dim', 2, 749, 768]\n",
      "['dim', 2, 1, 749]\n",
      "s\n",
      "build graph...\n",
      "de\n",
      "INFO:tensorflow:Restoring parameters from C:\\Users\\14106\\GAT\\result\\acm_allMP_multi_fea_.ckpt\n",
      "Model restored.\n",
      "(1, 749, 768)\n",
      "test start\n",
      "0\n",
      "1\n",
      "1\n"
     ]
    },
    {
     "name": "stderr",
     "output_type": "stream",
     "text": [
      "  5%|███▏                                                             | 3/62 [1:15:05<21:46:17, 1328.42s/it]"
     ]
    },
    {
     "name": "stdout",
     "output_type": "stream",
     "text": [
      "Test loss: 0.0 ; Test accuracy: 0.5473965406417847\n",
      "399\n",
      "y_train:(399, 2), y_val:(399, 2), y_test:(399, 2), train_idx:(2,), val_idx:(2,), test_idx:(399,)\n",
      "['dim', 2, 399, 768]\n",
      "['dim', 2, 1, 399]\n",
      "s\n",
      "build graph...\n",
      "de\n",
      "INFO:tensorflow:Restoring parameters from C:\\Users\\14106\\GAT\\result\\acm_allMP_multi_fea_.ckpt\n",
      "Model restored.\n",
      "(1, 399, 768)\n",
      "test start\n",
      "0\n",
      "1\n",
      "1\n"
     ]
    },
    {
     "name": "stderr",
     "output_type": "stream",
     "text": [
      "  6%|████▎                                                             | 4/62 [1:15:10<12:58:56, 805.80s/it]"
     ]
    },
    {
     "name": "stdout",
     "output_type": "stream",
     "text": [
      "Test loss: 0.0 ; Test accuracy: 0.31829574704170227\n",
      "13497\n",
      "y_train:(13497, 2), y_val:(13497, 2), y_test:(13497, 2), train_idx:(2,), val_idx:(2,), test_idx:(13497,)\n",
      "['dim', 2, 13497, 768]\n",
      "['dim', 2, 1, 13497]\n",
      "s\n",
      "build graph...\n",
      "de\n",
      "INFO:tensorflow:Restoring parameters from C:\\Users\\14106\\GAT\\result\\acm_allMP_multi_fea_.ckpt\n",
      "Model restored.\n",
      "(1, 13497, 768)\n",
      "test start\n",
      "0\n",
      "1\n",
      "1\n"
     ]
    },
    {
     "name": "stderr",
     "output_type": "stream",
     "text": [
      "  8%|█████▎                                                            | 5/62 [1:24:17<11:16:49, 712.45s/it]"
     ]
    },
    {
     "name": "stdout",
     "output_type": "stream",
     "text": [
      "Test loss: 0.0 ; Test accuracy: 0.418685644865036\n",
      "118\n",
      "y_train:(118, 2), y_val:(118, 2), y_test:(118, 2), train_idx:(2,), val_idx:(2,), test_idx:(118,)\n",
      "['dim', 2, 118, 768]\n",
      "['dim', 2, 1, 118]\n",
      "s\n",
      "build graph...\n",
      "de\n",
      "INFO:tensorflow:Restoring parameters from C:\\Users\\14106\\GAT\\result\\acm_allMP_multi_fea_.ckpt\n",
      "Model restored.\n",
      "(1, 118, 768)\n",
      "test start\n",
      "0\n",
      "1\n",
      "1\n"
     ]
    },
    {
     "name": "stderr",
     "output_type": "stream",
     "text": [
      " 10%|██████▍                                                            | 6/62 [1:24:22<7:20:18, 471.75s/it]"
     ]
    },
    {
     "name": "stdout",
     "output_type": "stream",
     "text": [
      "Test loss: 0.0 ; Test accuracy: 0.35593220591545105\n",
      "2639\n",
      "y_train:(2639, 2), y_val:(2639, 2), y_test:(2639, 2), train_idx:(2,), val_idx:(2,), test_idx:(2639,)\n",
      "['dim', 2, 2639, 768]\n",
      "['dim', 2, 1, 2639]\n",
      "s\n",
      "build graph...\n",
      "de\n",
      "INFO:tensorflow:Restoring parameters from C:\\Users\\14106\\GAT\\result\\acm_allMP_multi_fea_.ckpt\n",
      "Model restored.\n",
      "(1, 2639, 768)\n",
      "test start\n",
      "0\n",
      "1\n",
      "1\n"
     ]
    },
    {
     "name": "stderr",
     "output_type": "stream",
     "text": [
      " 11%|███████▌                                                           | 7/62 [1:24:41<4:56:59, 324.00s/it]"
     ]
    },
    {
     "name": "stdout",
     "output_type": "stream",
     "text": [
      "Test loss: 0.0 ; Test accuracy: 0.37514209747314453\n",
      "650\n",
      "y_train:(650, 2), y_val:(650, 2), y_test:(650, 2), train_idx:(2,), val_idx:(2,), test_idx:(650,)\n",
      "['dim', 2, 650, 768]\n",
      "['dim', 2, 1, 650]\n",
      "s\n",
      "build graph...\n",
      "de\n",
      "INFO:tensorflow:Restoring parameters from C:\\Users\\14106\\GAT\\result\\acm_allMP_multi_fea_.ckpt\n",
      "Model restored.\n",
      "(1, 650, 768)\n",
      "test start\n",
      "0\n",
      "1\n",
      "1\n"
     ]
    },
    {
     "name": "stderr",
     "output_type": "stream",
     "text": [
      " 13%|████████▋                                                          | 8/62 [1:24:46<3:20:12, 222.46s/it]"
     ]
    },
    {
     "name": "stdout",
     "output_type": "stream",
     "text": [
      "Test loss: 0.0 ; Test accuracy: 0.38461539149284363\n",
      "30000\n",
      "y_train:(30000, 2), y_val:(30000, 2), y_test:(30000, 2), train_idx:(2,), val_idx:(2,), test_idx:(30000,)\n",
      "['dim', 2, 30000, 768]\n",
      "['dim', 2, 1, 30000]\n",
      "s\n",
      "build graph...\n",
      "de\n",
      "INFO:tensorflow:Restoring parameters from C:\\Users\\14106\\GAT\\result\\acm_allMP_multi_fea_.ckpt\n",
      "Model restored.\n",
      "(1, 30000, 768)\n",
      "test start\n",
      "0\n",
      "1\n",
      "1\n"
     ]
    },
    {
     "name": "stderr",
     "output_type": "stream",
     "text": [
      " 15%|█████████▍                                                       | 9/62 [2:25:06<18:54:39, 1284.52s/it]"
     ]
    },
    {
     "name": "stdout",
     "output_type": "stream",
     "text": [
      "Test loss: 0.0 ; Test accuracy: 0.5193666815757751\n",
      "30000\n",
      "y_train:(30000, 2), y_val:(30000, 2), y_test:(30000, 2), train_idx:(2,), val_idx:(2,), test_idx:(30000,)\n",
      "['dim', 2, 30000, 768]\n",
      "['dim', 2, 1, 30000]\n",
      "s\n",
      "build graph...\n",
      "de\n",
      "INFO:tensorflow:Restoring parameters from C:\\Users\\14106\\GAT\\result\\acm_allMP_multi_fea_.ckpt\n",
      "Model restored.\n",
      "(1, 30000, 768)\n",
      "test start\n",
      "0\n",
      "1\n",
      "1\n"
     ]
    },
    {
     "name": "stderr",
     "output_type": "stream",
     "text": [
      " 16%|██████████▎                                                     | 10/62 [3:24:09<28:37:36, 1981.86s/it]"
     ]
    },
    {
     "name": "stdout",
     "output_type": "stream",
     "text": [
      "Test loss: 0.0 ; Test accuracy: 0.4465000033378601\n",
      "30000\n",
      "y_train:(30000, 2), y_val:(30000, 2), y_test:(30000, 2), train_idx:(2,), val_idx:(2,), test_idx:(30000,)\n",
      "['dim', 2, 30000, 768]\n",
      "['dim', 2, 1, 30000]\n",
      "s\n",
      "build graph...\n",
      "de\n",
      "INFO:tensorflow:Restoring parameters from C:\\Users\\14106\\GAT\\result\\acm_allMP_multi_fea_.ckpt\n",
      "Model restored.\n",
      "(1, 30000, 768)\n",
      "test start\n",
      "0\n",
      "1\n",
      "1\n"
     ]
    },
    {
     "name": "stderr",
     "output_type": "stream",
     "text": [
      " 18%|███████████▎                                                    | 11/62 [4:30:10<36:39:14, 2587.33s/it]"
     ]
    },
    {
     "name": "stdout",
     "output_type": "stream",
     "text": [
      "Test loss: 0.0 ; Test accuracy: 0.4654666781425476\n",
      "24923\n",
      "y_train:(24923, 2), y_val:(24923, 2), y_test:(24923, 2), train_idx:(2,), val_idx:(2,), test_idx:(24923,)\n",
      "['dim', 2, 24923, 768]\n",
      "['dim', 2, 1, 24923]\n",
      "s\n",
      "build graph...\n",
      "de\n",
      "INFO:tensorflow:Restoring parameters from C:\\Users\\14106\\GAT\\result\\acm_allMP_multi_fea_.ckpt\n",
      "Model restored.\n",
      "(1, 24923, 768)\n",
      "test start\n",
      "0\n",
      "1\n",
      "1\n"
     ]
    },
    {
     "name": "stderr",
     "output_type": "stream",
     "text": [
      " 19%|████████████▍                                                   | 12/62 [5:11:14<35:24:52, 2549.84s/it]"
     ]
    },
    {
     "name": "stdout",
     "output_type": "stream",
     "text": [
      "Test loss: 0.0 ; Test accuracy: 0.4342173933982849\n",
      "5359\n",
      "y_train:(5359, 2), y_val:(5359, 2), y_test:(5359, 2), train_idx:(2,), val_idx:(2,), test_idx:(5359,)\n",
      "['dim', 2, 5359, 768]\n",
      "['dim', 2, 1, 5359]\n",
      "s\n",
      "build graph...\n",
      "de\n",
      "INFO:tensorflow:Restoring parameters from C:\\Users\\14106\\GAT\\result\\acm_allMP_multi_fea_.ckpt\n",
      "Model restored.\n",
      "(1, 5359, 768)\n",
      "test start\n",
      "0\n",
      "1\n",
      "1\n"
     ]
    },
    {
     "name": "stderr",
     "output_type": "stream",
     "text": [
      " 21%|█████████████▍                                                  | 13/62 [5:12:27<24:29:44, 1799.69s/it]"
     ]
    },
    {
     "name": "stdout",
     "output_type": "stream",
     "text": [
      "Test loss: 0.0 ; Test accuracy: 0.371151328086853\n",
      "3111\n",
      "y_train:(3111, 2), y_val:(3111, 2), y_test:(3111, 2), train_idx:(2,), val_idx:(2,), test_idx:(3111,)\n",
      "['dim', 2, 3111, 768]\n",
      "['dim', 2, 1, 3111]\n",
      "s\n",
      "build graph...\n",
      "de\n",
      "INFO:tensorflow:Restoring parameters from C:\\Users\\14106\\GAT\\result\\acm_allMP_multi_fea_.ckpt\n",
      "Model restored.\n",
      "(1, 3111, 768)\n",
      "test start\n",
      "0\n",
      "1\n",
      "1\n"
     ]
    },
    {
     "name": "stderr",
     "output_type": "stream",
     "text": [
      " 23%|██████████████▍                                                 | 14/62 [5:12:54<16:51:12, 1264.01s/it]"
     ]
    },
    {
     "name": "stdout",
     "output_type": "stream",
     "text": [
      "Test loss: 0.0 ; Test accuracy: 0.3146898150444031\n",
      "29\n",
      "y_train:(29, 2), y_val:(29, 2), y_test:(29, 2), train_idx:(2,), val_idx:(2,), test_idx:(29,)\n",
      "['dim', 2, 29, 768]\n",
      "['dim', 2, 1, 29]\n",
      "s\n",
      "build graph...\n",
      "de\n",
      "INFO:tensorflow:Restoring parameters from C:\\Users\\14106\\GAT\\result\\acm_allMP_multi_fea_.ckpt\n",
      "Model restored.\n",
      "(1, 29, 768)\n",
      "test start\n",
      "0\n",
      "1\n",
      "1\n"
     ]
    },
    {
     "name": "stderr",
     "output_type": "stream",
     "text": [
      " 24%|███████████████▋                                                 | 15/62 [5:12:58<11:32:38, 884.22s/it]"
     ]
    },
    {
     "name": "stdout",
     "output_type": "stream",
     "text": [
      "Test loss: 0.0 ; Test accuracy: 0.2068965584039688\n",
      "30000\n",
      "y_train:(30000, 2), y_val:(30000, 2), y_test:(30000, 2), train_idx:(2,), val_idx:(2,), test_idx:(30000,)\n",
      "['dim', 2, 30000, 768]\n",
      "['dim', 2, 1, 30000]\n",
      "s\n",
      "build graph...\n",
      "de\n",
      "INFO:tensorflow:Restoring parameters from C:\\Users\\14106\\GAT\\result\\acm_allMP_multi_fea_.ckpt\n",
      "Model restored.\n",
      "(1, 30000, 768)\n",
      "test start\n",
      "0\n",
      "1\n",
      "1\n"
     ]
    },
    {
     "name": "stderr",
     "output_type": "stream",
     "text": [
      " 26%|████████████████▌                                               | 16/62 [6:18:31<23:01:26, 1801.88s/it]"
     ]
    },
    {
     "name": "stdout",
     "output_type": "stream",
     "text": [
      "Test loss: 0.0 ; Test accuracy: 0.39500001072883606\n",
      "9676\n",
      "y_train:(9676, 2), y_val:(9676, 2), y_test:(9676, 2), train_idx:(2,), val_idx:(2,), test_idx:(9676,)\n",
      "['dim', 2, 9676, 768]\n",
      "['dim', 2, 1, 9676]\n",
      "s\n",
      "build graph...\n",
      "de\n",
      "INFO:tensorflow:Restoring parameters from C:\\Users\\14106\\GAT\\result\\acm_allMP_multi_fea_.ckpt\n",
      "Model restored.\n",
      "(1, 9676, 768)\n",
      "test start\n",
      "0\n",
      "1\n",
      "1\n"
     ]
    },
    {
     "name": "stderr",
     "output_type": "stream",
     "text": [
      " 27%|█████████████████▌                                              | 17/62 [6:22:37<16:40:43, 1334.30s/it]"
     ]
    },
    {
     "name": "stdout",
     "output_type": "stream",
     "text": [
      "Test loss: 0.0 ; Test accuracy: 0.4188714325428009\n",
      "80\n",
      "y_train:(80, 2), y_val:(80, 2), y_test:(80, 2), train_idx:(2,), val_idx:(2,), test_idx:(80,)\n",
      "['dim', 2, 80, 768]\n",
      "['dim', 2, 1, 80]\n",
      "s\n",
      "build graph...\n",
      "de\n",
      "INFO:tensorflow:Restoring parameters from C:\\Users\\14106\\GAT\\result\\acm_allMP_multi_fea_.ckpt\n",
      "Model restored.\n",
      "(1, 80, 768)\n",
      "test start\n",
      "0\n",
      "1\n",
      "1\n"
     ]
    },
    {
     "name": "stderr",
     "output_type": "stream",
     "text": [
      " 29%|██████████████████▊                                              | 18/62 [6:22:42<11:25:24, 934.65s/it]"
     ]
    },
    {
     "name": "stdout",
     "output_type": "stream",
     "text": [
      "Test loss: 0.0 ; Test accuracy: 0.38749998807907104\n",
      "9263\n",
      "y_train:(9263, 2), y_val:(9263, 2), y_test:(9263, 2), train_idx:(2,), val_idx:(2,), test_idx:(9263,)\n",
      "['dim', 2, 9263, 768]\n",
      "['dim', 2, 1, 9263]\n",
      "s\n",
      "build graph...\n",
      "de\n",
      "INFO:tensorflow:Restoring parameters from C:\\Users\\14106\\GAT\\result\\acm_allMP_multi_fea_.ckpt\n",
      "Model restored.\n",
      "(1, 9263, 768)\n",
      "test start\n",
      "0\n",
      "1\n",
      "1\n"
     ]
    },
    {
     "name": "stderr",
     "output_type": "stream",
     "text": [
      " 31%|████████████████████▏                                             | 19/62 [6:26:40<8:39:57, 725.51s/it]"
     ]
    },
    {
     "name": "stdout",
     "output_type": "stream",
     "text": [
      "Test loss: 0.0 ; Test accuracy: 0.4249163269996643\n",
      "387\n",
      "y_train:(387, 2), y_val:(387, 2), y_test:(387, 2), train_idx:(2,), val_idx:(2,), test_idx:(387,)\n",
      "['dim', 2, 387, 768]\n",
      "['dim', 2, 1, 387]\n",
      "s\n",
      "build graph...\n",
      "de\n",
      "INFO:tensorflow:Restoring parameters from C:\\Users\\14106\\GAT\\result\\acm_allMP_multi_fea_.ckpt\n",
      "Model restored.\n",
      "(1, 387, 768)\n",
      "test start\n",
      "0\n",
      "1\n",
      "1\n"
     ]
    },
    {
     "name": "stderr",
     "output_type": "stream",
     "text": [
      " 32%|█████████████████████▎                                            | 20/62 [6:26:45<5:56:21, 509.09s/it]"
     ]
    },
    {
     "name": "stdout",
     "output_type": "stream",
     "text": [
      "Test loss: 0.0 ; Test accuracy: 0.6666666865348816\n",
      "13024\n",
      "y_train:(13024, 2), y_val:(13024, 2), y_test:(13024, 2), train_idx:(2,), val_idx:(2,), test_idx:(13024,)\n",
      "['dim', 2, 13024, 768]\n",
      "['dim', 2, 1, 13024]\n",
      "s\n",
      "build graph...\n",
      "de\n",
      "INFO:tensorflow:Restoring parameters from C:\\Users\\14106\\GAT\\result\\acm_allMP_multi_fea_.ckpt\n",
      "Model restored.\n",
      "(1, 13024, 768)\n",
      "test start\n",
      "0\n",
      "1\n",
      "1\n"
     ]
    },
    {
     "name": "stderr",
     "output_type": "stream",
     "text": [
      " 34%|██████████████████████▎                                           | 21/62 [6:35:27<5:50:39, 513.17s/it]"
     ]
    },
    {
     "name": "stdout",
     "output_type": "stream",
     "text": [
      "Test loss: 0.0 ; Test accuracy: 0.38436731696128845\n",
      "30000\n",
      "y_train:(30000, 2), y_val:(30000, 2), y_test:(30000, 2), train_idx:(2,), val_idx:(2,), test_idx:(30000,)\n",
      "['dim', 2, 30000, 768]\n",
      "['dim', 2, 1, 30000]\n",
      "s\n",
      "build graph...\n",
      "de\n",
      "INFO:tensorflow:Restoring parameters from C:\\Users\\14106\\GAT\\result\\acm_allMP_multi_fea_.ckpt\n",
      "Model restored.\n",
      "(1, 30000, 768)\n",
      "test start\n",
      "0\n",
      "1\n",
      "1\n"
     ]
    },
    {
     "name": "stderr",
     "output_type": "stream",
     "text": [
      " 35%|██████████████████████▋                                         | 22/62 [7:40:52<17:04:34, 1536.87s/it]"
     ]
    },
    {
     "name": "stdout",
     "output_type": "stream",
     "text": [
      "Test loss: 0.0 ; Test accuracy: 0.4245666563510895\n",
      "767\n",
      "y_train:(767, 2), y_val:(767, 2), y_test:(767, 2), train_idx:(2,), val_idx:(2,), test_idx:(767,)\n",
      "['dim', 2, 767, 768]\n",
      "['dim', 2, 1, 767]\n",
      "s\n",
      "build graph...\n",
      "de\n",
      "INFO:tensorflow:Restoring parameters from C:\\Users\\14106\\GAT\\result\\acm_allMP_multi_fea_.ckpt\n",
      "Model restored.\n",
      "(1, 767, 768)\n",
      "test start\n",
      "0\n",
      "1\n",
      "1\n"
     ]
    },
    {
     "name": "stderr",
     "output_type": "stream",
     "text": [
      " 37%|███████████████████████▋                                        | 23/62 [7:40:59<11:40:37, 1077.89s/it]"
     ]
    },
    {
     "name": "stdout",
     "output_type": "stream",
     "text": [
      "Test loss: 0.0 ; Test accuracy: 0.3024771809577942\n",
      "633\n",
      "y_train:(633, 2), y_val:(633, 2), y_test:(633, 2), train_idx:(2,), val_idx:(2,), test_idx:(633,)\n",
      "['dim', 2, 633, 768]\n",
      "['dim', 2, 1, 633]\n",
      "s\n",
      "build graph...\n",
      "de\n",
      "INFO:tensorflow:Restoring parameters from C:\\Users\\14106\\GAT\\result\\acm_allMP_multi_fea_.ckpt\n",
      "Model restored.\n",
      "(1, 633, 768)\n",
      "test start\n",
      "0\n",
      "1\n",
      "1\n"
     ]
    },
    {
     "name": "stderr",
     "output_type": "stream",
     "text": [
      " 39%|█████████████████████████▌                                        | 24/62 [7:41:04<7:58:49, 756.05s/it]"
     ]
    },
    {
     "name": "stdout",
     "output_type": "stream",
     "text": [
      "Test loss: 0.0 ; Test accuracy: 0.344391793012619\n",
      "873\n",
      "y_train:(873, 2), y_val:(873, 2), y_test:(873, 2), train_idx:(2,), val_idx:(2,), test_idx:(873,)\n",
      "['dim', 2, 873, 768]\n",
      "['dim', 2, 1, 873]\n",
      "s\n",
      "build graph...\n",
      "de\n",
      "INFO:tensorflow:Restoring parameters from C:\\Users\\14106\\GAT\\result\\acm_allMP_multi_fea_.ckpt\n",
      "Model restored.\n",
      "(1, 873, 768)\n",
      "test start\n",
      "0\n",
      "1\n",
      "1\n"
     ]
    },
    {
     "name": "stderr",
     "output_type": "stream",
     "text": [
      " 40%|██████████████████████████▌                                       | 25/62 [7:41:10<5:27:25, 530.95s/it]"
     ]
    },
    {
     "name": "stdout",
     "output_type": "stream",
     "text": [
      "Test loss: 0.0 ; Test accuracy: 0.35967928171157837\n",
      "113\n",
      "y_train:(113, 2), y_val:(113, 2), y_test:(113, 2), train_idx:(2,), val_idx:(2,), test_idx:(113,)\n",
      "['dim', 2, 113, 768]\n",
      "['dim', 2, 1, 113]\n",
      "s\n",
      "build graph...\n",
      "de\n",
      "INFO:tensorflow:Restoring parameters from C:\\Users\\14106\\GAT\\result\\acm_allMP_multi_fea_.ckpt\n",
      "Model restored.\n",
      "(1, 113, 768)\n",
      "test start\n",
      "0\n",
      "1\n",
      "1\n"
     ]
    },
    {
     "name": "stderr",
     "output_type": "stream",
     "text": [
      " 42%|███████████████████████████▋                                      | 26/62 [7:41:14<3:43:47, 372.98s/it]"
     ]
    },
    {
     "name": "stdout",
     "output_type": "stream",
     "text": [
      "Test loss: 0.0 ; Test accuracy: 0.3539822995662689\n",
      "57\n",
      "y_train:(57, 2), y_val:(57, 2), y_test:(57, 2), train_idx:(2,), val_idx:(2,), test_idx:(57,)\n",
      "['dim', 2, 57, 768]\n",
      "['dim', 2, 1, 57]\n",
      "s\n",
      "build graph...\n",
      "de\n",
      "INFO:tensorflow:Restoring parameters from C:\\Users\\14106\\GAT\\result\\acm_allMP_multi_fea_.ckpt\n",
      "Model restored.\n",
      "(1, 57, 768)\n",
      "test start\n",
      "0\n",
      "1\n",
      "1\n"
     ]
    },
    {
     "name": "stderr",
     "output_type": "stream",
     "text": [
      " 44%|████████████████████████████▋                                     | 27/62 [7:41:19<2:33:01, 262.33s/it]"
     ]
    },
    {
     "name": "stdout",
     "output_type": "stream",
     "text": [
      "Test loss: 0.0 ; Test accuracy: 0.5087719559669495\n",
      "29084\n",
      "y_train:(29084, 2), y_val:(29084, 2), y_test:(29084, 2), train_idx:(2,), val_idx:(2,), test_idx:(29084,)\n",
      "['dim', 2, 29084, 768]\n",
      "['dim', 2, 1, 29084]\n",
      "s\n",
      "build graph...\n",
      "de\n",
      "INFO:tensorflow:Restoring parameters from C:\\Users\\14106\\GAT\\result\\acm_allMP_multi_fea_.ckpt\n",
      "Model restored.\n",
      "(1, 29084, 768)\n",
      "test start\n",
      "0\n",
      "1\n",
      "1\n"
     ]
    },
    {
     "name": "stderr",
     "output_type": "stream",
     "text": [
      " 45%|████████████████████████████▉                                   | 28/62 [8:40:36<11:48:49, 1250.87s/it]"
     ]
    },
    {
     "name": "stdout",
     "output_type": "stream",
     "text": [
      "Test loss: 0.0 ; Test accuracy: 0.38729196786880493\n",
      "8340\n",
      "y_train:(8340, 2), y_val:(8340, 2), y_test:(8340, 2), train_idx:(2,), val_idx:(2,), test_idx:(8340,)\n",
      "['dim', 2, 8340, 768]\n",
      "['dim', 2, 1, 8340]\n",
      "s\n",
      "build graph...\n",
      "de\n",
      "INFO:tensorflow:Restoring parameters from C:\\Users\\14106\\GAT\\result\\acm_allMP_multi_fea_.ckpt\n",
      "Model restored.\n",
      "(1, 8340, 768)\n",
      "test start\n",
      "0\n",
      "1\n",
      "1\n"
     ]
    },
    {
     "name": "stderr",
     "output_type": "stream",
     "text": [
      " 47%|██████████████████████████████▊                                   | 29/62 [8:43:42<8:32:16, 931.41s/it]"
     ]
    },
    {
     "name": "stdout",
     "output_type": "stream",
     "text": [
      "Test loss: 0.0 ; Test accuracy: 0.3414868116378784\n",
      "127\n",
      "y_train:(127, 2), y_val:(127, 2), y_test:(127, 2), train_idx:(2,), val_idx:(2,), test_idx:(127,)\n",
      "['dim', 2, 127, 768]\n",
      "['dim', 2, 1, 127]\n",
      "s\n",
      "build graph...\n",
      "de\n",
      "INFO:tensorflow:Restoring parameters from C:\\Users\\14106\\GAT\\result\\acm_allMP_multi_fea_.ckpt\n",
      "Model restored.\n",
      "(1, 127, 768)\n",
      "test start\n",
      "0\n",
      "1\n",
      "1\n"
     ]
    },
    {
     "name": "stderr",
     "output_type": "stream",
     "text": [
      " 48%|███████████████████████████████▉                                  | 30/62 [8:43:46<5:48:21, 653.18s/it]"
     ]
    },
    {
     "name": "stdout",
     "output_type": "stream",
     "text": [
      "Test loss: 0.0 ; Test accuracy: 0.4251968562602997\n",
      "242\n",
      "y_train:(242, 2), y_val:(242, 2), y_test:(242, 2), train_idx:(2,), val_idx:(2,), test_idx:(242,)\n",
      "['dim', 2, 242, 768]\n",
      "['dim', 2, 1, 242]\n",
      "s\n",
      "build graph...\n",
      "de\n",
      "INFO:tensorflow:Restoring parameters from C:\\Users\\14106\\GAT\\result\\acm_allMP_multi_fea_.ckpt\n",
      "Model restored.\n",
      "(1, 242, 768)\n",
      "test start\n",
      "0\n",
      "1\n",
      "1\n"
     ]
    },
    {
     "name": "stderr",
     "output_type": "stream",
     "text": [
      " 50%|█████████████████████████████████                                 | 31/62 [8:43:51<3:56:56, 458.61s/it]"
     ]
    },
    {
     "name": "stdout",
     "output_type": "stream",
     "text": [
      "Test loss: 0.0 ; Test accuracy: 0.25206610560417175\n",
      "25168\n",
      "y_train:(25168, 2), y_val:(25168, 2), y_test:(25168, 2), train_idx:(2,), val_idx:(2,), test_idx:(25168,)\n",
      "['dim', 2, 25168, 768]\n",
      "['dim', 2, 1, 25168]\n",
      "s\n",
      "build graph...\n",
      "de\n",
      "INFO:tensorflow:Restoring parameters from C:\\Users\\14106\\GAT\\result\\acm_allMP_multi_fea_.ckpt\n",
      "Model restored.\n",
      "(1, 25168, 768)\n",
      "test start\n",
      "0\n",
      "1\n",
      "1\n"
     ]
    },
    {
     "name": "stderr",
     "output_type": "stream",
     "text": [
      " 52%|█████████████████████████████████▌                               | 32/62 [9:25:36<8:56:20, 1072.70s/it]"
     ]
    },
    {
     "name": "stdout",
     "output_type": "stream",
     "text": [
      "Test loss: 0.0 ; Test accuracy: 0.3692387044429779\n",
      "10136\n",
      "y_train:(10136, 2), y_val:(10136, 2), y_test:(10136, 2), train_idx:(2,), val_idx:(2,), test_idx:(10136,)\n",
      "['dim', 2, 10136, 768]\n",
      "['dim', 2, 1, 10136]\n",
      "s\n",
      "build graph...\n",
      "de\n",
      "INFO:tensorflow:Restoring parameters from C:\\Users\\14106\\GAT\\result\\acm_allMP_multi_fea_.ckpt\n",
      "Model restored.\n",
      "(1, 10136, 768)\n",
      "test start\n",
      "0\n",
      "1\n",
      "1\n"
     ]
    },
    {
     "name": "stderr",
     "output_type": "stream",
     "text": [
      " 53%|███████████████████████████████████▏                              | 33/62 [9:29:58<6:40:57, 829.58s/it]"
     ]
    },
    {
     "name": "stdout",
     "output_type": "stream",
     "text": [
      "Test loss: 0.0 ; Test accuracy: 0.3682912290096283\n",
      "1178\n",
      "y_train:(1178, 2), y_val:(1178, 2), y_test:(1178, 2), train_idx:(2,), val_idx:(2,), test_idx:(1178,)\n",
      "['dim', 2, 1178, 768]\n",
      "['dim', 2, 1, 1178]\n",
      "s\n",
      "build graph...\n",
      "de\n",
      "INFO:tensorflow:Restoring parameters from C:\\Users\\14106\\GAT\\result\\acm_allMP_multi_fea_.ckpt\n",
      "Model restored.\n",
      "(1, 1178, 768)\n",
      "test start\n",
      "0\n",
      "1\n",
      "1\n"
     ]
    },
    {
     "name": "stderr",
     "output_type": "stream",
     "text": [
      " 55%|████████████████████████████████████▏                             | 34/62 [9:30:06<4:32:03, 582.99s/it]"
     ]
    },
    {
     "name": "stdout",
     "output_type": "stream",
     "text": [
      "Test loss: 0.0 ; Test accuracy: 0.3106960952281952\n",
      "3050\n",
      "y_train:(3050, 2), y_val:(3050, 2), y_test:(3050, 2), train_idx:(2,), val_idx:(2,), test_idx:(3050,)\n",
      "['dim', 2, 3050, 768]\n",
      "['dim', 2, 1, 3050]\n",
      "s\n",
      "build graph...\n",
      "de\n",
      "INFO:tensorflow:Restoring parameters from C:\\Users\\14106\\GAT\\result\\acm_allMP_multi_fea_.ckpt\n",
      "Model restored.\n",
      "(1, 3050, 768)\n",
      "test start\n",
      "0\n",
      "1\n",
      "1\n"
     ]
    },
    {
     "name": "stderr",
     "output_type": "stream",
     "text": [
      " 56%|█████████████████████████████████████▎                            | 35/62 [9:30:31<3:06:59, 415.54s/it]"
     ]
    },
    {
     "name": "stdout",
     "output_type": "stream",
     "text": [
      "Test loss: 0.0 ; Test accuracy: 0.399344265460968\n",
      "55\n",
      "y_train:(55, 2), y_val:(55, 2), y_test:(55, 2), train_idx:(2,), val_idx:(2,), test_idx:(55,)\n",
      "['dim', 2, 55, 768]\n",
      "['dim', 2, 1, 55]\n",
      "s\n",
      "build graph...\n",
      "de\n",
      "INFO:tensorflow:Restoring parameters from C:\\Users\\14106\\GAT\\result\\acm_allMP_multi_fea_.ckpt\n",
      "Model restored.\n",
      "(1, 55, 768)\n",
      "test start\n",
      "0\n",
      "1\n",
      "1\n"
     ]
    },
    {
     "name": "stderr",
     "output_type": "stream",
     "text": [
      " 58%|██████████████████████████████████████▎                           | 36/62 [9:30:35<2:06:37, 292.20s/it]"
     ]
    },
    {
     "name": "stdout",
     "output_type": "stream",
     "text": [
      "Test loss: 0.0 ; Test accuracy: 0.2181818187236786\n",
      "5647\n",
      "y_train:(5647, 2), y_val:(5647, 2), y_test:(5647, 2), train_idx:(2,), val_idx:(2,), test_idx:(5647,)\n",
      "['dim', 2, 5647, 768]\n",
      "['dim', 2, 1, 5647]\n",
      "s\n",
      "build graph...\n",
      "de\n",
      "INFO:tensorflow:Restoring parameters from C:\\Users\\14106\\GAT\\result\\acm_allMP_multi_fea_.ckpt\n",
      "Model restored.\n",
      "(1, 5647, 768)\n",
      "test start\n",
      "0\n",
      "1\n",
      "1\n"
     ]
    },
    {
     "name": "stderr",
     "output_type": "stream",
     "text": [
      " 60%|███████████████████████████████████████▍                          | 37/62 [9:31:56<1:35:15, 228.60s/it]"
     ]
    },
    {
     "name": "stdout",
     "output_type": "stream",
     "text": [
      "Test loss: 0.0 ; Test accuracy: 0.3832123279571533\n",
      "262\n",
      "y_train:(262, 2), y_val:(262, 2), y_test:(262, 2), train_idx:(2,), val_idx:(2,), test_idx:(262,)\n",
      "['dim', 2, 262, 768]\n",
      "['dim', 2, 1, 262]\n",
      "s\n",
      "build graph...\n",
      "de\n",
      "INFO:tensorflow:Restoring parameters from C:\\Users\\14106\\GAT\\result\\acm_allMP_multi_fea_.ckpt\n",
      "Model restored.\n",
      "(1, 262, 768)\n",
      "test start\n",
      "0\n",
      "1\n",
      "1\n"
     ]
    },
    {
     "name": "stderr",
     "output_type": "stream",
     "text": [
      " 61%|████████████████████████████████████████▍                         | 38/62 [9:32:00<1:04:29, 161.24s/it]"
     ]
    },
    {
     "name": "stdout",
     "output_type": "stream",
     "text": [
      "Test loss: 0.0 ; Test accuracy: 0.3320610821247101\n",
      "640\n",
      "y_train:(640, 2), y_val:(640, 2), y_test:(640, 2), train_idx:(2,), val_idx:(2,), test_idx:(640,)\n",
      "['dim', 2, 640, 768]\n",
      "['dim', 2, 1, 640]\n",
      "s\n",
      "build graph...\n",
      "de\n",
      "INFO:tensorflow:Restoring parameters from C:\\Users\\14106\\GAT\\result\\acm_allMP_multi_fea_.ckpt\n",
      "Model restored.\n",
      "(1, 640, 768)\n",
      "test start\n",
      "0\n",
      "1\n",
      "1\n"
     ]
    },
    {
     "name": "stderr",
     "output_type": "stream",
     "text": [
      " 63%|██████████████████████████████████████████▊                         | 39/62 [9:32:05<43:52, 114.44s/it]"
     ]
    },
    {
     "name": "stdout",
     "output_type": "stream",
     "text": [
      "Test loss: 0.0 ; Test accuracy: 0.484375\n",
      "292\n",
      "y_train:(292, 2), y_val:(292, 2), y_test:(292, 2), train_idx:(2,), val_idx:(2,), test_idx:(292,)\n",
      "['dim', 2, 292, 768]\n",
      "['dim', 2, 1, 292]\n",
      "s\n",
      "build graph...\n",
      "de\n",
      "INFO:tensorflow:Restoring parameters from C:\\Users\\14106\\GAT\\result\\acm_allMP_multi_fea_.ckpt\n",
      "Model restored.\n",
      "(1, 292, 768)\n",
      "test start\n",
      "0\n",
      "1\n",
      "1\n"
     ]
    },
    {
     "name": "stderr",
     "output_type": "stream",
     "text": [
      " 65%|████████████████████████████████████████████▌                        | 40/62 [9:32:09<29:51, 81.44s/it]"
     ]
    },
    {
     "name": "stdout",
     "output_type": "stream",
     "text": [
      "Test loss: 0.0 ; Test accuracy: 0.45205479860305786\n",
      "13705\n",
      "y_train:(13705, 2), y_val:(13705, 2), y_test:(13705, 2), train_idx:(2,), val_idx:(2,), test_idx:(13705,)\n",
      "['dim', 2, 13705, 768]\n",
      "['dim', 2, 1, 13705]\n",
      "s\n",
      "build graph...\n",
      "de\n",
      "INFO:tensorflow:Restoring parameters from C:\\Users\\14106\\GAT\\result\\acm_allMP_multi_fea_.ckpt\n",
      "Model restored.\n",
      "(1, 13705, 768)\n",
      "test start\n",
      "0\n",
      "1\n",
      "1\n"
     ]
    },
    {
     "name": "stderr",
     "output_type": "stream",
     "text": [
      " 66%|███████████████████████████████████████████▋                      | 41/62 [9:40:04<1:09:47, 199.42s/it]"
     ]
    },
    {
     "name": "stdout",
     "output_type": "stream",
     "text": [
      "Test loss: 0.0 ; Test accuracy: 0.4715067446231842\n",
      "214\n",
      "y_train:(214, 2), y_val:(214, 2), y_test:(214, 2), train_idx:(2,), val_idx:(2,), test_idx:(214,)\n",
      "['dim', 2, 214, 768]\n",
      "['dim', 2, 1, 214]\n",
      "s\n",
      "build graph...\n",
      "de\n",
      "INFO:tensorflow:Restoring parameters from C:\\Users\\14106\\GAT\\result\\acm_allMP_multi_fea_.ckpt\n",
      "Model restored.\n",
      "(1, 214, 768)\n",
      "test start\n",
      "0\n",
      "1\n",
      "1\n"
     ]
    },
    {
     "name": "stderr",
     "output_type": "stream",
     "text": [
      " 68%|██████████████████████████████████████████████                      | 42/62 [9:40:08<46:56, 140.80s/it]"
     ]
    },
    {
     "name": "stdout",
     "output_type": "stream",
     "text": [
      "Test loss: 0.0 ; Test accuracy: 0.2710280418395996\n",
      "2280\n",
      "y_train:(2280, 2), y_val:(2280, 2), y_test:(2280, 2), train_idx:(2,), val_idx:(2,), test_idx:(2280,)\n",
      "['dim', 2, 2280, 768]\n",
      "['dim', 2, 1, 2280]\n",
      "s\n",
      "build graph...\n",
      "de\n",
      "INFO:tensorflow:Restoring parameters from C:\\Users\\14106\\GAT\\result\\acm_allMP_multi_fea_.ckpt\n",
      "Model restored.\n",
      "(1, 2280, 768)\n",
      "test start\n",
      "0\n",
      "1\n",
      "1\n"
     ]
    },
    {
     "name": "stderr",
     "output_type": "stream",
     "text": [
      " 69%|███████████████████████████████████████████████▏                    | 43/62 [9:40:21<32:26, 102.43s/it]"
     ]
    },
    {
     "name": "stdout",
     "output_type": "stream",
     "text": [
      "Test loss: 0.0 ; Test accuracy: 0.34780701994895935\n",
      "5245\n",
      "y_train:(5245, 2), y_val:(5245, 2), y_test:(5245, 2), train_idx:(2,), val_idx:(2,), test_idx:(5245,)\n",
      "['dim', 2, 5245, 768]\n",
      "['dim', 2, 1, 5245]\n",
      "s\n",
      "build graph...\n",
      "de\n",
      "INFO:tensorflow:Restoring parameters from C:\\Users\\14106\\GAT\\result\\acm_allMP_multi_fea_.ckpt\n",
      "Model restored.\n",
      "(1, 5245, 768)\n",
      "test start\n",
      "0\n",
      "1\n",
      "1\n"
     ]
    },
    {
     "name": "stderr",
     "output_type": "stream",
     "text": [
      " 71%|████████████████████████████████████████████████▉                    | 44/62 [9:41:15<26:23, 87.98s/it]"
     ]
    },
    {
     "name": "stdout",
     "output_type": "stream",
     "text": [
      "Test loss: 0.0 ; Test accuracy: 0.6139180064201355\n",
      "7038\n",
      "y_train:(7038, 2), y_val:(7038, 2), y_test:(7038, 2), train_idx:(2,), val_idx:(2,), test_idx:(7038,)\n",
      "['dim', 2, 7038, 768]\n",
      "['dim', 2, 1, 7038]\n",
      "s\n",
      "build graph...\n",
      "de\n",
      "INFO:tensorflow:Restoring parameters from C:\\Users\\14106\\GAT\\result\\acm_allMP_multi_fea_.ckpt\n",
      "Model restored.\n",
      "(1, 7038, 768)\n",
      "test start\n",
      "0\n",
      "1\n",
      "1\n"
     ]
    },
    {
     "name": "stderr",
     "output_type": "stream",
     "text": [
      " 73%|██████████████████████████████████████████████████                   | 45/62 [9:42:57<26:08, 92.28s/it]"
     ]
    },
    {
     "name": "stdout",
     "output_type": "stream",
     "text": [
      "Test loss: 0.0 ; Test accuracy: 0.34896278381347656\n",
      "9857\n",
      "y_train:(9857, 2), y_val:(9857, 2), y_test:(9857, 2), train_idx:(2,), val_idx:(2,), test_idx:(9857,)\n",
      "['dim', 2, 9857, 768]\n",
      "['dim', 2, 1, 9857]\n",
      "s\n",
      "build graph...\n",
      "de\n",
      "INFO:tensorflow:Restoring parameters from C:\\Users\\14106\\GAT\\result\\acm_allMP_multi_fea_.ckpt\n",
      "Model restored.\n",
      "(1, 9857, 768)\n",
      "test start\n",
      "0\n",
      "1\n",
      "1\n"
     ]
    },
    {
     "name": "stderr",
     "output_type": "stream",
     "text": [
      " 74%|██████████████████████████████████████████████████▍                 | 46/62 [9:46:33<34:26, 129.14s/it]"
     ]
    },
    {
     "name": "stdout",
     "output_type": "stream",
     "text": [
      "Test loss: 0.0 ; Test accuracy: 0.33265700936317444\n",
      "17836\n",
      "y_train:(17836, 2), y_val:(17836, 2), y_test:(17836, 2), train_idx:(2,), val_idx:(2,), test_idx:(17836,)\n",
      "['dim', 2, 17836, 768]\n",
      "['dim', 2, 1, 17836]\n",
      "s\n",
      "build graph...\n",
      "de\n",
      "INFO:tensorflow:Restoring parameters from C:\\Users\\14106\\GAT\\result\\acm_allMP_multi_fea_.ckpt\n",
      "Model restored.\n",
      "(1, 17836, 768)\n",
      "test start\n",
      "0\n",
      "1\n",
      "1\n"
     ]
    },
    {
     "name": "stderr",
     "output_type": "stream",
     "text": [
      " 76%|█████████████████████████████████████████████████▎               | 47/62 [10:04:05<1:41:32, 406.13s/it]"
     ]
    },
    {
     "name": "stdout",
     "output_type": "stream",
     "text": [
      "Test loss: 0.0 ; Test accuracy: 0.5107086896896362\n",
      "15096\n",
      "y_train:(15096, 2), y_val:(15096, 2), y_test:(15096, 2), train_idx:(2,), val_idx:(2,), test_idx:(15096,)\n",
      "['dim', 2, 15096, 768]\n",
      "['dim', 2, 1, 15096]\n",
      "s\n",
      "build graph...\n",
      "de\n",
      "INFO:tensorflow:Restoring parameters from C:\\Users\\14106\\GAT\\result\\acm_allMP_multi_fea_.ckpt\n",
      "Model restored.\n",
      "(1, 15096, 768)\n",
      "test start\n",
      "0\n",
      "1\n",
      "1\n"
     ]
    },
    {
     "name": "stderr",
     "output_type": "stream",
     "text": [
      " 77%|██████████████████████████████████████████████████▎              | 48/62 [10:14:30<1:50:04, 471.73s/it]"
     ]
    },
    {
     "name": "stdout",
     "output_type": "stream",
     "text": [
      "Test loss: 0.0 ; Test accuracy: 0.36777955293655396\n",
      "1928\n",
      "y_train:(1928, 2), y_val:(1928, 2), y_test:(1928, 2), train_idx:(2,), val_idx:(2,), test_idx:(1928,)\n",
      "['dim', 2, 1928, 768]\n",
      "['dim', 2, 1, 1928]\n",
      "s\n",
      "build graph...\n",
      "de\n",
      "INFO:tensorflow:Restoring parameters from C:\\Users\\14106\\GAT\\result\\acm_allMP_multi_fea_.ckpt\n",
      "Model restored.\n",
      "(1, 1928, 768)\n",
      "test start\n",
      "0\n",
      "1\n",
      "1\n"
     ]
    },
    {
     "name": "stderr",
     "output_type": "stream",
     "text": [
      " 79%|███████████████████████████████████████████████████▎             | 49/62 [10:14:42<1:12:18, 333.76s/it]"
     ]
    },
    {
     "name": "stdout",
     "output_type": "stream",
     "text": [
      "Test loss: 0.0 ; Test accuracy: 0.32002073526382446\n",
      "1112\n",
      "y_train:(1112, 2), y_val:(1112, 2), y_test:(1112, 2), train_idx:(2,), val_idx:(2,), test_idx:(1112,)\n",
      "['dim', 2, 1112, 768]\n",
      "['dim', 2, 1, 1112]\n",
      "s\n",
      "build graph...\n",
      "de\n",
      "INFO:tensorflow:Restoring parameters from C:\\Users\\14106\\GAT\\result\\acm_allMP_multi_fea_.ckpt\n",
      "Model restored.\n",
      "(1, 1112, 768)\n",
      "test start\n",
      "0\n",
      "1\n",
      "1\n"
     ]
    },
    {
     "name": "stderr",
     "output_type": "stream",
     "text": [
      " 81%|██████████████████████████████████████████████████████             | 50/62 [10:14:48<47:06, 235.53s/it]"
     ]
    },
    {
     "name": "stdout",
     "output_type": "stream",
     "text": [
      "Test loss: 0.0 ; Test accuracy: 0.3273381292819977\n",
      "9661\n",
      "y_train:(9661, 2), y_val:(9661, 2), y_test:(9661, 2), train_idx:(2,), val_idx:(2,), test_idx:(9661,)\n",
      "['dim', 2, 9661, 768]\n",
      "['dim', 2, 1, 9661]\n",
      "s\n",
      "build graph...\n",
      "de\n",
      "INFO:tensorflow:Restoring parameters from C:\\Users\\14106\\GAT\\result\\acm_allMP_multi_fea_.ckpt\n",
      "Model restored.\n",
      "(1, 9661, 768)\n",
      "test start\n",
      "0\n",
      "1\n",
      "1\n"
     ]
    },
    {
     "name": "stderr",
     "output_type": "stream",
     "text": [
      " 82%|███████████████████████████████████████████████████████            | 51/62 [10:18:45<43:15, 235.95s/it]"
     ]
    },
    {
     "name": "stdout",
     "output_type": "stream",
     "text": [
      "Test loss: 0.0 ; Test accuracy: 0.3915743827819824\n",
      "17851\n",
      "y_train:(17851, 2), y_val:(17851, 2), y_test:(17851, 2), train_idx:(2,), val_idx:(2,), test_idx:(17851,)\n",
      "['dim', 2, 17851, 768]\n",
      "['dim', 2, 1, 17851]\n",
      "s\n",
      "build graph...\n",
      "de\n",
      "INFO:tensorflow:Restoring parameters from C:\\Users\\14106\\GAT\\result\\acm_allMP_multi_fea_.ckpt\n",
      "Model restored.\n",
      "(1, 17851, 768)\n",
      "test start\n",
      "0\n",
      "1\n",
      "1\n"
     ]
    },
    {
     "name": "stderr",
     "output_type": "stream",
     "text": [
      " 84%|██████████████████████████████████████████████████████▌          | 52/62 [10:36:26<1:20:34, 483.44s/it]"
     ]
    },
    {
     "name": "stdout",
     "output_type": "stream",
     "text": [
      "Test loss: 0.0 ; Test accuracy: 0.34418240189552307\n",
      "13353\n",
      "y_train:(13353, 2), y_val:(13353, 2), y_test:(13353, 2), train_idx:(2,), val_idx:(2,), test_idx:(13353,)\n",
      "['dim', 2, 13353, 768]\n",
      "['dim', 2, 1, 13353]\n",
      "s\n",
      "build graph...\n",
      "de\n",
      "INFO:tensorflow:Restoring parameters from C:\\Users\\14106\\GAT\\result\\acm_allMP_multi_fea_.ckpt\n",
      "Model restored.\n",
      "(1, 13353, 768)\n",
      "test start\n",
      "0\n",
      "1\n",
      "1\n"
     ]
    },
    {
     "name": "stderr",
     "output_type": "stream",
     "text": [
      " 85%|███████████████████████████████████████████████████████▌         | 53/62 [10:43:59<1:11:10, 474.45s/it]"
     ]
    },
    {
     "name": "stdout",
     "output_type": "stream",
     "text": [
      "Test loss: 0.0 ; Test accuracy: 0.3449411988258362\n",
      "1896\n",
      "y_train:(1896, 2), y_val:(1896, 2), y_test:(1896, 2), train_idx:(2,), val_idx:(2,), test_idx:(1896,)\n",
      "['dim', 2, 1896, 768]\n",
      "['dim', 2, 1, 1896]\n",
      "s\n",
      "build graph...\n",
      "de\n",
      "INFO:tensorflow:Restoring parameters from C:\\Users\\14106\\GAT\\result\\acm_allMP_multi_fea_.ckpt\n",
      "Model restored.\n",
      "(1, 1896, 768)\n",
      "test start\n",
      "0\n",
      "1\n",
      "1\n"
     ]
    },
    {
     "name": "stderr",
     "output_type": "stream",
     "text": [
      " 87%|██████████████████████████████████████████████████████████▎        | 54/62 [10:44:11<44:43, 335.48s/it]"
     ]
    },
    {
     "name": "stdout",
     "output_type": "stream",
     "text": [
      "Test loss: 0.0 ; Test accuracy: 0.33386075496673584\n",
      "350\n",
      "y_train:(350, 2), y_val:(350, 2), y_test:(350, 2), train_idx:(2,), val_idx:(2,), test_idx:(350,)\n",
      "['dim', 2, 350, 768]\n",
      "['dim', 2, 1, 350]\n",
      "s\n",
      "build graph...\n",
      "de\n",
      "INFO:tensorflow:Restoring parameters from C:\\Users\\14106\\GAT\\result\\acm_allMP_multi_fea_.ckpt\n",
      "Model restored.\n",
      "(1, 350, 768)\n",
      "test start\n",
      "0\n",
      "1\n",
      "1\n"
     ]
    },
    {
     "name": "stderr",
     "output_type": "stream",
     "text": [
      " 89%|███████████████████████████████████████████████████████████▍       | 55/62 [10:44:15<27:32, 236.12s/it]"
     ]
    },
    {
     "name": "stdout",
     "output_type": "stream",
     "text": [
      "Test loss: 0.0 ; Test accuracy: 0.34857141971588135\n",
      "79\n",
      "y_train:(79, 2), y_val:(79, 2), y_test:(79, 2), train_idx:(2,), val_idx:(2,), test_idx:(79,)\n",
      "['dim', 2, 79, 768]\n",
      "['dim', 2, 1, 79]\n",
      "s\n",
      "build graph...\n",
      "de\n",
      "INFO:tensorflow:Restoring parameters from C:\\Users\\14106\\GAT\\result\\acm_allMP_multi_fea_.ckpt\n",
      "Model restored.\n",
      "(1, 79, 768)\n",
      "test start\n",
      "0\n",
      "1\n",
      "1\n"
     ]
    },
    {
     "name": "stderr",
     "output_type": "stream",
     "text": [
      " 90%|████████████████████████████████████████████████████████████▌      | 56/62 [10:44:19<16:38, 166.44s/it]"
     ]
    },
    {
     "name": "stdout",
     "output_type": "stream",
     "text": [
      "Test loss: 0.0 ; Test accuracy: 0.29113924503326416\n",
      "3626\n",
      "y_train:(3626, 2), y_val:(3626, 2), y_test:(3626, 2), train_idx:(2,), val_idx:(2,), test_idx:(3626,)\n",
      "['dim', 2, 3626, 768]\n",
      "['dim', 2, 1, 3626]\n",
      "s\n",
      "build graph...\n",
      "de\n",
      "INFO:tensorflow:Restoring parameters from C:\\Users\\14106\\GAT\\result\\acm_allMP_multi_fea_.ckpt\n",
      "Model restored.\n",
      "(1, 3626, 768)\n",
      "test start\n",
      "0\n",
      "1\n",
      "1\n"
     ]
    },
    {
     "name": "stderr",
     "output_type": "stream",
     "text": [
      " 92%|█████████████████████████████████████████████████████████████▌     | 57/62 [10:44:52<10:32, 126.48s/it]"
     ]
    },
    {
     "name": "stdout",
     "output_type": "stream",
     "text": [
      "Test loss: 0.0 ; Test accuracy: 0.3163265287876129\n",
      "2225\n",
      "y_train:(2225, 2), y_val:(2225, 2), y_test:(2225, 2), train_idx:(2,), val_idx:(2,), test_idx:(2225,)\n",
      "['dim', 2, 2225, 768]\n",
      "['dim', 2, 1, 2225]\n",
      "s\n",
      "build graph...\n",
      "de\n",
      "INFO:tensorflow:Restoring parameters from C:\\Users\\14106\\GAT\\result\\acm_allMP_multi_fea_.ckpt\n",
      "Model restored.\n",
      "(1, 2225, 768)\n",
      "test start\n",
      "0\n",
      "1\n",
      "1\n"
     ]
    },
    {
     "name": "stderr",
     "output_type": "stream",
     "text": [
      " 94%|███████████████████████████████████████████████████████████████▌    | 58/62 [10:45:07<06:11, 92.94s/it]"
     ]
    },
    {
     "name": "stdout",
     "output_type": "stream",
     "text": [
      "Test loss: 0.0 ; Test accuracy: 0.40943819284439087\n",
      "616\n",
      "y_train:(616, 2), y_val:(616, 2), y_test:(616, 2), train_idx:(2,), val_idx:(2,), test_idx:(616,)\n",
      "['dim', 2, 616, 768]\n",
      "['dim', 2, 1, 616]\n",
      "s\n",
      "build graph...\n",
      "de\n",
      "INFO:tensorflow:Restoring parameters from C:\\Users\\14106\\GAT\\result\\acm_allMP_multi_fea_.ckpt\n",
      "Model restored.\n",
      "(1, 616, 768)\n",
      "test start\n",
      "0\n",
      "1\n",
      "1\n"
     ]
    },
    {
     "name": "stderr",
     "output_type": "stream",
     "text": [
      " 95%|████████████████████████████████████████████████████████████████▋   | 59/62 [10:45:11<03:19, 66.52s/it]"
     ]
    },
    {
     "name": "stdout",
     "output_type": "stream",
     "text": [
      "Test loss: 0.0 ; Test accuracy: 0.39123377203941345\n",
      "1554\n",
      "y_train:(1554, 2), y_val:(1554, 2), y_test:(1554, 2), train_idx:(2,), val_idx:(2,), test_idx:(1554,)\n",
      "['dim', 2, 1554, 768]\n",
      "['dim', 2, 1, 1554]\n",
      "s\n",
      "build graph...\n",
      "de\n",
      "INFO:tensorflow:Restoring parameters from C:\\Users\\14106\\GAT\\result\\acm_allMP_multi_fea_.ckpt\n",
      "Model restored.\n",
      "(1, 1554, 768)\n",
      "test start\n",
      "0\n",
      "1\n",
      "1\n"
     ]
    },
    {
     "name": "stderr",
     "output_type": "stream",
     "text": [
      " 97%|█████████████████████████████████████████████████████████████████▊  | 60/62 [10:45:21<01:38, 49.35s/it]"
     ]
    },
    {
     "name": "stdout",
     "output_type": "stream",
     "text": [
      "Test loss: 0.0 ; Test accuracy: 0.257400244474411\n",
      "19215\n",
      "y_train:(19215, 2), y_val:(19215, 2), y_test:(19215, 2), train_idx:(2,), val_idx:(2,), test_idx:(19215,)\n",
      "['dim', 2, 19215, 768]\n",
      "['dim', 2, 1, 19215]\n",
      "s\n",
      "build graph...\n",
      "de\n",
      "INFO:tensorflow:Restoring parameters from C:\\Users\\14106\\GAT\\result\\acm_allMP_multi_fea_.ckpt\n",
      "Model restored.\n",
      "(1, 19215, 768)\n",
      "test start\n",
      "0\n",
      "1\n",
      "1\n"
     ]
    },
    {
     "name": "stderr",
     "output_type": "stream",
     "text": [
      " 98%|█████████████████████████████████████████████████████████████████▉ | 61/62 [11:05:48<06:42, 402.79s/it]"
     ]
    },
    {
     "name": "stdout",
     "output_type": "stream",
     "text": [
      "Test loss: 0.0 ; Test accuracy: 0.4175904095172882\n",
      "8474\n",
      "y_train:(8474, 2), y_val:(8474, 2), y_test:(8474, 2), train_idx:(2,), val_idx:(2,), test_idx:(8474,)\n",
      "['dim', 2, 8474, 768]\n",
      "['dim', 2, 1, 8474]\n",
      "s\n",
      "build graph...\n",
      "de\n",
      "INFO:tensorflow:Restoring parameters from C:\\Users\\14106\\GAT\\result\\acm_allMP_multi_fea_.ckpt\n",
      "Model restored.\n",
      "(1, 8474, 768)\n",
      "test start\n",
      "0\n",
      "1\n",
      "1\n"
     ]
    },
    {
     "name": "stderr",
     "output_type": "stream",
     "text": [
      "100%|███████████████████████████████████████████████████████████████████| 62/62 [11:08:43<00:00, 647.15s/it]"
     ]
    },
    {
     "name": "stdout",
     "output_type": "stream",
     "text": [
      "Test loss: 0.0 ; Test accuracy: 0.3627566695213318\n"
     ]
    },
    {
     "name": "stderr",
     "output_type": "stream",
     "text": [
      "\n"
     ]
    }
   ],
   "source": [
    "#schools=ORIG_UNIV\n",
    "#schools=['uofm']\n",
    "\n",
    "for i in tqdm.tqdm(range(66,len(schools),1)):\n",
    "    adj_list, fea_list, y_train, y_val, y_test, train_mask, val_mask, test_mask = load_data_dblp(s=schools[i])\n",
    "    \n",
    "\n",
    "    if featype == 'adj':\n",
    "        fea_list = adj_list\n",
    "\n",
    "    nb_nodes = fea_list[0].shape[0]\n",
    "    ft_size = fea_list[0].shape[1]\n",
    "    nb_classes = y_train.shape[1]\n",
    "\n",
    "    # adj = adj.todense()\n",
    "    \n",
    "    # features = features[np.newaxis]  # [1, nb_node, ft_size]\n",
    "    print(['dim',len(fea_list),len(fea_list[0]),len(fea_list[0][0])])\n",
    "    fea_list = [fea[np.newaxis] for fea in fea_list]\n",
    "    print(['dim',len(fea_list),len(fea_list[0]),len(fea_list[0][0])])\n",
    "    adj_list = [adj[np.newaxis] for adj in adj_list]\n",
    "    y_train = y_train[np.newaxis]\n",
    "    y_val = y_val[np.newaxis]\n",
    "    y_test = y_test[np.newaxis]\n",
    "    train_mask = train_mask[np.newaxis]\n",
    "    val_mask = val_mask[np.newaxis]\n",
    "    test_mask = test_mask[np.newaxis]\n",
    "    print(\"s\")\n",
    "    #biases_list = [process.adj_to_bias(adj, [nb_nodes], nhood=1) for adj in adj_list\n",
    "    #biases_list = [process.adj_to_bias(adj.astype('float') ) for adj in adj_list]\n",
    "    \n",
    "    biases_list = [process.adj_to_bias(adj, [nb_nodes], nhood=1) for adj in adj_list]\n",
    "    import pickle\n",
    "    name=schools[i]+YEAR+'adj.p'\n",
    "    os.chdir(SOURCE_PATH)\n",
    "    #pickle.dump(biases_list,open(name,\"wb\"))\n",
    "    #biases_list=pickle.load(open(name,\"rb\"))\n",
    "    \n",
    "    #For two year separate\n",
    "    print('build graph...')\n",
    "    #checkpt_file = 'C:\\data\\HAN-modified\\\\tranfer learning\\model.ckpt'\n",
    "    with tf.Graph().as_default():\n",
    "        with tf.name_scope('input'):\n",
    "            ftr_in_list = [tf.placeholder(dtype=tf.float32,\n",
    "                                          shape=(batch_size, nb_nodes, ft_size),\n",
    "                                          name='ftr_in_{}'.format(i))\n",
    "                           for i in range(len(fea_list))]\n",
    "            bias_in_list = [tf.placeholder(dtype=tf.float32,\n",
    "                                           shape=(batch_size, nb_nodes, nb_nodes),\n",
    "                                           name='bias_in_{}'.format(i))\n",
    "                            for i in range(len(biases_list))]\n",
    "            lbl_in = tf.placeholder(dtype=tf.int32, shape=(\n",
    "                batch_size, nb_nodes, nb_classes), name='lbl_in')\n",
    "            msk_in = tf.placeholder(dtype=tf.int32, shape=(batch_size, nb_nodes),\n",
    "                                    name='msk_in')\n",
    "            attn_drop = tf.placeholder(dtype=tf.float32, shape=(), name='attn_drop')\n",
    "            ffd_drop = tf.placeholder(dtype=tf.float32, shape=(), name='ffd_drop')\n",
    "            is_train = tf.placeholder(dtype=tf.bool, shape=(), name='is_train')\n",
    "        # forward\n",
    "        logits, final_embedding, att_val = model.inference(ftr_in_list, nb_classes, nb_nodes, is_train,attn_drop, ffd_drop,bias_mat_list=bias_in_list,hid_units=hid_units, n_heads=n_heads,residual=residual, activation=nonlinearity)\n",
    "    \n",
    "        # cal masked_loss\n",
    "        log_resh = tf.reshape(logits, [-1, nb_classes])\n",
    "        lab_resh = tf.reshape(lbl_in, [-1, nb_classes])\n",
    "        msk_resh = tf.reshape(msk_in, [-1])\n",
    "        loss = model.masked_softmax_cross_entropy(log_resh, lab_resh, msk_resh)\n",
    "        accuracy = model.masked_accuracy(log_resh, lab_resh, msk_resh)\n",
    "        # optimzie\n",
    "        train_op = model.training(loss, lr, l2_coef)\n",
    "        vlss_mn = np.inf\n",
    "        vacc_mx = 0.0\n",
    "        curr_step = 0\n",
    "        saver = tf.train.Saver()\n",
    "        init_op = tf.group(tf.global_variables_initializer(),\n",
    "                           tf.local_variables_initializer())\n",
    "        #new_saver = tf.train.import_meta_graph('C:\\data\\HAN-modified\\\\tranfer learning\\model.ckpt.meta')\n",
    "    \n",
    "    \n",
    "        with tf.Session(config=config) as sess:\n",
    "            #sess.run(init_op)\n",
    "\n",
    "            train_loss_avg = 0\n",
    "            train_acc_avg = 0\n",
    "            val_loss_avg = 0\n",
    "            val_acc_avg = 0\n",
    "            os.chdir(CODE_PATH)\n",
    "            saver.restore(sess, DEST_PATH+\"acm_allMP_multi_fea_.ckpt\")\n",
    "            #saver.restore(sess, \"C:\\data\\HAN-modified\\\\tranfer learning\\\\model.ckpt\")\n",
    "            #new_saver.restore(sess, tf.train.latest_checkpoint('./'))\n",
    "            print(\"Model restored.\")\n",
    "            \n",
    "            #saver.restore(sess, checkpt_file)\n",
    "            #print('load model from : {}'.format(checkpt_file))\n",
    "            ts_size = fea_list[0].shape[0]\n",
    "            print(fea_list[0].shape)\n",
    "            ts_step = 0\n",
    "            ts_loss = 0.0\n",
    "            ts_acc = 0.0\n",
    "            print(\"test start\")\n",
    "            while ts_step * batch_size < ts_size:\n",
    "                print(ts_step)\n",
    "                print(batch_size)\n",
    "                print(ts_size)\n",
    "                # fd1 = {ftr_in: features[ts_step * batch_size:(ts_step + 1) * batch_size]}\n",
    "                fd1 = {i: d[ts_step * batch_size:(ts_step + 1) * batch_size]\n",
    "                       for i, d in zip(ftr_in_list, fea_list)}\n",
    "                fd2 = {i: d[ts_step * batch_size:(ts_step + 1) * batch_size]\n",
    "                       for i, d in zip(bias_in_list, biases_list)}\n",
    "                fd3 = {lbl_in: y_test[ts_step * batch_size:(ts_step + 1) * batch_size],\n",
    "                       msk_in: test_mask[ts_step * batch_size:(ts_step + 1) * batch_size],\n",
    "                \n",
    "                       is_train: False,\n",
    "                       attn_drop: 0.0,\n",
    "                       ffd_drop: 0.0}\n",
    "            \n",
    "                fd = fd1\n",
    "                fd.update(fd2)\n",
    "                fd.update(fd3)\n",
    "                \n",
    "                loss_value_ts, acc_ts, jhy_final_embedding, predicted = sess.run([loss, accuracy, final_embedding, log_resh],\n",
    "                                                                      feed_dict=fd)\n",
    "                import pickle\n",
    "                name=schools[i]+'_'+YEAR+'.p'\n",
    "                os.chdir(DEST_PATH)\n",
    "                pickle.dump(predicted,open(name,\"wb\"))\n",
    "                ts_loss += loss_value_ts\n",
    "                ts_acc += acc_ts\n",
    "                ts_step += 1\n",
    "\n",
    "            print('Test loss:', ts_loss / ts_step,\n",
    "                  '; Test accuracy:', ts_acc / ts_step)\n",
    "    \n",
    "            \n",
    "            sess.close()\n"
   ]
  },
  {
   "cell_type": "markdown",
   "metadata": {
    "id": "XUXpnjKIQK8U"
   },
   "source": [
    "# New Section"
   ]
  },
  {
   "cell_type": "code",
   "execution_count": 49,
   "metadata": {
    "colab": {
     "base_uri": "https://localhost:8080/"
    },
    "executionInfo": {
     "elapsed": 325,
     "status": "ok",
     "timestamp": 1653926739728,
     "user": {
      "displayName": "ava lee",
      "userId": "04676147846523200027"
     },
     "user_tz": 240
    },
    "id": "GWrn04hoXKiN",
    "outputId": "3b1519fa-5ed7-4bae-f9c3-20c9d5ca829e",
    "tags": []
   },
   "outputs": [
    {
     "name": "stdout",
     "output_type": "stream",
     "text": [
      "[[ 0.79152066 -0.9221296 ]\n",
      " [-1.1336458   1.2642779 ]\n",
      " [ 0.8228782  -0.95387465]\n",
      " ...\n",
      " [-0.66938376  0.74347806]\n",
      " [-0.6311226   0.6883371 ]\n",
      " [-1.1250875   1.2593728 ]]\n"
     ]
    },
    {
     "data": {
      "text/plain": [
       "12524"
      ]
     },
     "execution_count": 49,
     "metadata": {},
     "output_type": "execute_result"
    }
   ],
   "source": [
    "os.chdir('C:\\\\Users\\\\14106\\\\GAT\\\\result\\\\')\n",
    "#ORIG_UNIV=['columbia',\"notredame\",\"uofm\",\"UCSD\",'berkeley',\"Harvard\",\"ucla\", 'dartmouth']`\n",
    "s=ORIG_UNIV[2]\n",
    "name=s+'_'+YEAR+'.p'\n",
    "predicted1=pickle.load(open(name,'rb'))\n",
    "print(predicted1)\n",
    "len(predicted1)"
   ]
  },
  {
   "cell_type": "code",
   "execution_count": 50,
   "metadata": {
    "colab": {
     "base_uri": "https://localhost:8080/",
     "height": 1000
    },
    "executionInfo": {
     "elapsed": 40932,
     "status": "ok",
     "timestamp": 1663700128783,
     "user": {
      "displayName": "ava lee",
      "userId": "04676147846523200027"
     },
     "user_tz": 240
    },
    "id": "agB7ebLOXKyx",
    "outputId": "918d4f66-2173-4c8c-85a5-d450251d4e72",
    "tags": []
   },
   "outputs": [
    {
     "name": "stdout",
     "output_type": "stream",
     "text": [
      "[[ 0.79152066 -0.9221295 ]\n",
      " [-1.1336457   1.2642778 ]\n",
      " [ 0.8228783  -0.95387477]\n",
      " ...\n",
      " [-0.66938365  0.7434779 ]\n",
      " [-0.6311226   0.688337  ]\n",
      " [-1.1250874   1.2593727 ]]\n"
     ]
    },
    {
     "data": {
      "text/plain": [
       "12524"
      ]
     },
     "execution_count": 50,
     "metadata": {},
     "output_type": "execute_result"
    }
   ],
   "source": [
    "os.chdir('C:\\\\Users\\\\14106\\\\Downloads\\\\re1\\\\')\n",
    "name=s+YEAR+'.p'\n",
    "predicted=pickle.load(open(name,'rb'))\n",
    "print(predicted)\n",
    "len(predicted)"
   ]
  },
  {
   "cell_type": "code",
   "execution_count": 31,
   "metadata": {
    "colab": {
     "base_uri": "https://localhost:8080/"
    },
    "executionInfo": {
     "elapsed": 171,
     "status": "ok",
     "timestamp": 1651473280499,
     "user": {
      "displayName": "ava lee",
      "userId": "04676147846523200027"
     },
     "user_tz": 240
    },
    "id": "bh6URGk2XU5r",
    "outputId": "81b56daf-ec77-4bd1-9128-d2eff531d8f7"
   },
   "outputs": [
    {
     "data": {
      "text/plain": [
       "9702"
      ]
     },
     "execution_count": 31,
     "metadata": {},
     "output_type": "execute_result"
    }
   ],
   "source": [
    "#biases_list1=biases_list#[0][0][0][1]\n",
    "list((biases_list1[0][0][0])!=(biases_list[0][0][0])).index(1)"
   ]
  },
  {
   "cell_type": "code",
   "execution_count": 67,
   "metadata": {
    "tags": []
   },
   "outputs": [
    {
     "name": "stdout",
     "output_type": "stream",
     "text": [
      "3488\n",
      "3488\n"
     ]
    }
   ],
   "source": [
    "os.chdir(\"C:\\\\Users\\\\14106\\\\GAT\\\\preprocessed2020\\\\\")\n",
    "#ORIG_UNIV=['columbia',\"notredame\",\"uofm\",\"UCSD\",'berkeley',\"Harvard\",\"ucla\", 'dartmouth']`\n",
    "s=ORIG_UNIV[0]\n",
    "name=\"CCsym_sampled_\"+s+\".npz\"\n",
    "dat_cc1=scipy.sparse.load_npz(name);\n",
    "name=\"CCasym_sampled_\"+s+\".npz\"\n",
    "dat_cc=scipy.sparse.load_npz(name);\n",
    "print(dat_cc.sum())\n",
    "print(dat_cc1.sum())"
   ]
  },
  {
   "cell_type": "code",
   "execution_count": 63,
   "metadata": {
    "tags": []
   },
   "outputs": [
    {
     "name": "stdout",
     "output_type": "stream",
     "text": [
      "3488\n",
      "6976\n"
     ]
    }
   ],
   "source": []
  },
  {
   "cell_type": "code",
   "execution_count": 43,
   "metadata": {
    "colab": {
     "base_uri": "https://localhost:8080/"
    },
    "id": "bgo5gow6UCnG",
    "outputId": "415caf1e-ce96-4d4b-c0aa-95877cf0872e"
   },
   "outputs": [
    {
     "data": {
      "text/plain": [
       "1"
      ]
     },
     "execution_count": 43,
     "metadata": {},
     "output_type": "execute_result"
    }
   ],
   "source": [
    "adj_list[0][0][0][9702]\n",
    "adj_list[0][0][9702][0]"
   ]
  }
 ],
 "metadata": {
  "colab": {
   "authorship_tag": "ABX9TyNGVWotYZnrac1d1cGMURLT",
   "machine_shape": "hm",
   "mount_file_id": "1gQg2AfnUARHTnCai1mnaL-MnYYA3Bh-m",
   "provenance": []
  },
  "gpuClass": "standard",
  "kernelspec": {
   "display_name": "Python 3 (ipykernel)",
   "language": "python",
   "name": "python3"
  },
  "language_info": {
   "codemirror_mode": {
    "name": "ipython",
    "version": 3
   },
   "file_extension": ".py",
   "mimetype": "text/x-python",
   "name": "python",
   "nbconvert_exporter": "python",
   "pygments_lexer": "ipython3",
   "version": "3.7.9"
  }
 },
 "nbformat": 4,
 "nbformat_minor": 4
}
