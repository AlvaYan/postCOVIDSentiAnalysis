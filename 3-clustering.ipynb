{
 "cells": [
  {
   "cell_type": "code",
   "execution_count": 9,
   "id": "34f4b266-0eab-4e0d-bc1f-1c6c3482565f",
   "metadata": {
    "tags": []
   },
   "outputs": [],
   "source": [
    "YEAR='2019'\n",
    "RES_PATH='C:\\\\Users\\\\14106\\\\GAT\\\\result\\\\'\n",
    "PRO_PATH='C:\\\\Users\\\\14106\\\\GAT\\\\preprocessed'+YEAR+'\\\\'\n",
    "CODE_PATH=\"C:\\\\Users\\\\14106\\\\GAT\\\\\"\n",
    "RAW_PATH=\"C:\\\\Users\\\\14106\\\\GAT\\\\100school\\\\\"\n",
    "\n",
    "#C:\\Backup of covid project\\2cls_CScombined_negVSnonneg\n",
    "import numpy as np \n",
    "import urllib.request \n",
    "import os \n",
    "import csv \n",
    "import requests \n",
    "import time\n",
    "import math\n",
    "import rando\n",
    "import pandas as pd\n",
    "from collections import defaultdict\n",
    "import pickle\n",
    "import heapq\n",
    "import pickle\n",
    "import warnings\n",
    "import tqdm\n",
    "#from keras.preprocessing.sequence import pad_sequences\n",
    "from math import exp\n",
    "import random\n",
    "from collections import defaultdict\n",
    "\n",
    "ORIG_UNIV=['columbia',\"notredame\",\"uofm\",\"UCSD\",'berkeley',\"Harvard\",\"ucla\", 'dartmouth']\n",
    "REGION={'WEST':['AK','HI','WA','OR','CA','MT','ID','WY',\n",
    "                'NV','UT','CO','AZ','NM'],\n",
    "        'MIDWEST':['ND','SD','NE','KS','MN','IA',\n",
    "                  'MO','WI','IL','IN','MI','OH'],\n",
    "        'NORTHEAST':['NY','NJ','PA','ME','VT','NH','MA','CT','RI'],\n",
    "        'SOUTH':['OK','TX','AR','LA','KY','TN','MS','AL',\n",
    "                'WV','DE','MD','DC','VA','NC','SC','GA','FL']}\n",
    "\n",
    "STATE2REG=dict()\n",
    "for key, val in REGION.items():\n",
    "    for s in val:\n",
    "        STATE2REG[s]=key\n",
    "            \n",
    "def get_region(s:str):\n",
    "    return STATE2REG[s]\n",
    "    \n",
    "def categorize_rank(rank):\n",
    "    if np.isnan(rank):\n",
    "        return '6'\n",
    "    if rank<=20:\n",
    "        return '1'\n",
    "    elif rank<=50:\n",
    "        return '2'\n",
    "    elif rank<=100:\n",
    "        return '3'\n",
    "    elif rank<200:\n",
    "        return '4'\n",
    "    elif rank<500:\n",
    "        return '5'\n",
    "    else:\n",
    "        return '6'\n",
    "os.chdir(RAW_PATH)\n",
    "dat = pd.read_csv('colleges-CCIHE-final.csv')"
   ]
  },
  {
   "cell_type": "code",
   "execution_count": 2,
   "id": "31d1c1d8-6923-4768-8983-337213adcb3f",
   "metadata": {
    "tags": []
   },
   "outputs": [],
   "source": [
    "random.seed(1)\n",
    "dat['region']=dat['stabbr'].apply(get_region)\n",
    "dat['rank']=dat['rankings'].apply(categorize_rank)\n",
    "#dat=dat.sample(frac=1)#[]\n",
    "schools=list(dat.subreddit)\n",
    "df=dat.loc[:,['rank','D1','sector','region']]\n",
    "X=pd.get_dummies(df, columns = ['rank','D1','sector','region']).values"
   ]
  },
  {
   "cell_type": "code",
   "execution_count": 3,
   "id": "61492a78-14c4-4f39-b6a8-7479ab93dc7d",
   "metadata": {
    "tags": []
   },
   "outputs": [],
   "source": [
    "from sklearn.cluster import KMeans\n",
    "kmeans = KMeans(n_clusters=3, random_state=0).fit(X)\n",
    "cluster=kmeans.labels_"
   ]
  },
  {
   "cell_type": "code",
   "execution_count": 10,
   "id": "6a4c863a-253d-4ffd-a9f6-12b636bb1f40",
   "metadata": {
    "tags": []
   },
   "outputs": [],
   "source": [
    "cat=defaultdict()\n",
    "for i,val in enumerate(schools):"
   ]
  },
  {
   "cell_type": "code",
   "execution_count": 107,
   "id": "1958a36b-599e-4837-abc6-6341d1acdee8",
   "metadata": {
    "tags": []
   },
   "outputs": [
    {
     "name": "stdout",
     "output_type": "stream",
     "text": [
      "1\n",
      "1\n",
      "0\n",
      "0\n",
      "0\n",
      "1\n",
      "0\n",
      "1\n"
     ]
    }
   ],
   "source": [
    "for s in ORIG_UNIV:\n",
    "    print(cluster[list(schools).index(s)])"
   ]
  },
  {
   "cell_type": "markdown",
   "id": "fa2eabcf-0508-437b-b7ac-81b5490ac367",
   "metadata": {
    "tags": []
   },
   "source": [
    "# Use Euclidian distance to classify"
   ]
  },
  {
   "cell_type": "code",
   "execution_count": 4,
   "id": "3aa4835f-ffae-4caa-af33-907905839270",
   "metadata": {
    "tags": []
   },
   "outputs": [],
   "source": [
    "centroids=[]\n",
    "for s in ORIG_UNIV:\n",
    "    centroids.append(X[list(schools).index(s),:])\n",
    "    \n",
    "dis=[]\n",
    "for i in range(len(X)):\n",
    "    cur=X[i,:]\n",
    "    d=[]\n",
    "    for c in centroids:\n",
    "        d.append(sum(cur!=c))\n",
    "    dis.append(d)\n",
    "        "
   ]
  },
  {
   "cell_type": "code",
   "execution_count": 5,
   "id": "d066f59d-d37e-40d3-a74d-2c662992c91c",
   "metadata": {
    "tags": []
   },
   "outputs": [],
   "source": [
    "dic=defaultdict(list)\n",
    "for i, val in enumerate(dis):\n",
    "    m=min(val)\n",
    "    s=schools[i]\n",
    "    for j,v in enumerate(val):\n",
    "        if v==m:\n",
    "            dic[s].append(ORIG_UNIV[j])\n",
    "\n",
    "for u in ORIG_UNIV:\n",
    "    dic[u]=[u]"
   ]
  },
  {
   "cell_type": "code",
   "execution_count": 6,
   "id": "b887e290-92c1-470c-ac8c-bfcf187a7058",
   "metadata": {
    "tags": []
   },
   "outputs": [],
   "source": [
    "import pickle \n",
    "os.chdir(CODE_PATH)\n",
    "with open('cluster.pkl', 'wb') as f:\n",
    "    pickle.dump(dic, f)\n",
    "        \n",
    "with open('cluster.pkl', 'rb') as f:\n",
    "    loaded_dict = pickle.load(f)"
   ]
  },
  {
   "cell_type": "code",
   "execution_count": 7,
   "id": "f9756d51-fe79-4f75-8faf-647f0f5bf49d",
   "metadata": {
    "tags": []
   },
   "outputs": [
    {
     "data": {
      "text/plain": [
       "[0, 2, 6, 6, 4, 0, 4, 0]"
      ]
     },
     "execution_count": 7,
     "metadata": {},
     "output_type": "execute_result"
    }
   ],
   "source": [
    "dis[list(schools).index('columbia')]"
   ]
  },
  {
   "cell_type": "code",
   "execution_count": 8,
   "id": "bdbd428c-57a0-450b-8ad9-8ec422964e7e",
   "metadata": {
    "tags": []
   },
   "outputs": [
    {
     "data": {
      "text/plain": [
       "['columbia']"
      ]
     },
     "execution_count": 8,
     "metadata": {},
     "output_type": "execute_result"
    }
   ],
   "source": [
    "dic['columbia']"
   ]
  },
  {
   "cell_type": "code",
   "execution_count": 69,
   "id": "473e0149-031a-4396-9fd0-cdf3db3e8d16",
   "metadata": {
    "tags": []
   },
   "outputs": [
    {
     "data": {
      "text/plain": [
       "[array([1, 0, 0, 0, 0, 0, 0, 1, 0, 1, 0, 1, 0, 0], dtype=uint8),\n",
       " array([1, 0, 0, 0, 0, 0, 0, 1, 0, 1, 1, 0, 0, 0], dtype=uint8),\n",
       " array([0, 1, 0, 0, 0, 0, 0, 1, 1, 0, 1, 0, 0, 0], dtype=uint8),\n",
       " array([0, 1, 0, 0, 0, 0, 0, 1, 1, 0, 0, 0, 0, 1], dtype=uint8),\n",
       " array([1, 0, 0, 0, 0, 0, 0, 1, 1, 0, 0, 0, 0, 1], dtype=uint8),\n",
       " array([1, 0, 0, 0, 0, 0, 0, 1, 0, 1, 0, 1, 0, 0], dtype=uint8),\n",
       " array([1, 0, 0, 0, 0, 0, 0, 1, 1, 0, 0, 0, 0, 1], dtype=uint8),\n",
       " array([1, 0, 0, 0, 0, 0, 0, 1, 0, 1, 0, 1, 0, 0], dtype=uint8)]"
      ]
     },
     "execution_count": 69,
     "metadata": {},
     "output_type": "execute_result"
    }
   ],
   "source": [
    "centroids"
   ]
  },
  {
   "cell_type": "markdown",
   "id": "7f4ff0b4-7180-4380-9d75-d923f193705c",
   "metadata": {},
   "source": [
    "# Dafrt below"
   ]
  },
  {
   "cell_type": "code",
   "execution_count": 63,
   "id": "e5ef642e-97be-4b17-8f19-e95b56787e28",
   "metadata": {
    "tags": []
   },
   "outputs": [
    {
     "name": "stdout",
     "output_type": "stream",
     "text": [
      "['notredame']\n",
      "['berkeley', 'ucla']\n",
      "['columbia', 'notredame', 'uofm', 'UCSD', 'Harvard', 'dartmouth']\n",
      "['columbia', 'notredame', 'Harvard', 'dartmouth']\n",
      "['columbia', 'uofm', 'UCSD', 'berkeley', 'Harvard', 'ucla', 'dartmouth']\n",
      "['uofm', 'UCSD', 'berkeley', 'ucla']\n",
      "['UCSD', 'berkeley', 'ucla']\n",
      "['columbia', 'uofm', 'UCSD', 'berkeley', 'Harvard', 'ucla', 'dartmouth']\n"
     ]
    }
   ],
   "source": [
    "school8 = [\"notredame\",\"uofm\",\"UCSD\",'berkeley',\"Harvard\",\"ucla\", 'dartmouth','columbia']\n",
    "for s in school8:\n",
    "    print(dic[s])"
   ]
  },
  {
   "cell_type": "code",
   "execution_count": 37,
   "id": "3b532f26-0919-4ad0-b5c0-b19d5ad544bd",
   "metadata": {
    "tags": []
   },
   "outputs": [
    {
     "name": "stdout",
     "output_type": "stream",
     "text": [
      "[[-0.54500896  0.600409  ]\n",
      " [-0.76511043  0.8479979 ]\n",
      " [ 0.20801222 -0.26448786]\n",
      " [-0.2021043   0.20153818]\n",
      " [ 0.5053316  -0.5980596 ]\n",
      " [ 0.3628386  -0.4315721 ]\n",
      " [-0.84562033  0.9378486 ]\n",
      " [-0.95882386  1.0827218 ]\n",
      " [ 0.7234084  -0.83804345]\n",
      " [-1.2614318   1.4030232 ]\n",
      " [ 0.35727158 -0.43184406]\n",
      " [-1.7094467   1.9438758 ]\n",
      " [-0.98619944  1.098062  ]\n",
      " [ 0.10847789 -0.1426439 ]\n",
      " [-0.3289137   0.3441916 ]\n",
      " [-0.70975417  0.78641397]\n",
      " [ 0.61345935 -0.7148829 ]\n",
      " [ 0.3209633  -0.38510382]\n",
      " [-0.28724432  0.28969663]\n",
      " [-0.42340645  0.4478697 ]]\n"
     ]
    },
    {
     "data": {
      "text/plain": [
       "5031"
      ]
     },
     "execution_count": 37,
     "metadata": {},
     "output_type": "execute_result"
    }
   ],
   "source": [
    "os.chdir('C:\\\\Users\\\\14106\\\\GAT\\\\result\\\\')\n",
    "#ORIG_UNIV=['columbia',\"notredame\",\"uofm\",\"UCSD\",'berkeley',\"Harvard\",\"ucla\", 'dartmouth']`\n",
    "s=ORIG_UNIV[0]\n",
    "name=s+'_'+YEAR+'.p'\n",
    "predicted1=pickle.load(open(name,'rb'))\n",
    "print(predicted1[0:20])\n",
    "len(predicted1)"
   ]
  },
  {
   "cell_type": "code",
   "execution_count": 38,
   "id": "1fd9de2e-7c20-488c-9349-a80dd605c33c",
   "metadata": {},
   "outputs": [
    {
     "name": "stdout",
     "output_type": "stream",
     "text": [
      "[[ 0.54355323 -0.6392615 ]\n",
      " [ 0.23279878 -0.28592438]\n",
      " [ 0.20801216 -0.2644878 ]\n",
      " [ 0.08501468 -0.11840931]\n",
      " [ 0.5053315  -0.5980595 ]\n",
      " [ 0.3628384  -0.43157184]\n",
      " [-0.8456204   0.93784875]\n",
      " [-0.5148354   0.56726605]\n",
      " [ 0.7234084  -0.8380435 ]\n",
      " [-0.59387773  0.6364555 ]\n",
      " [ 0.3572716  -0.4318441 ]\n",
      " [-1.4676734   1.6690197 ]\n",
      " [-0.9861995   1.098062  ]\n",
      " [ 0.10847782 -0.14264384]\n",
      " [-0.3289137   0.3441916 ]\n",
      " [-0.70975417  0.786414  ]\n",
      " [ 0.52097994 -0.6102656 ]\n",
      " [ 0.64672726 -0.7614497 ]\n",
      " [-0.61289704  0.65939826]\n",
      " [-1.6616393   1.8596547 ]]\n"
     ]
    },
    {
     "data": {
      "text/plain": [
       "5031"
      ]
     },
     "execution_count": 38,
     "metadata": {},
     "output_type": "execute_result"
    }
   ],
   "source": [
    "os.chdir('C:\\\\Users\\\\14106\\\\Downloads\\\\re1\\\\')\n",
    "name=s+YEAR+'.p'\n",
    "predicted=pickle.load(open(name,'rb'))\n",
    "print(predicted[0:20])\n",
    "len(predicted)"
   ]
  },
  {
   "cell_type": "code",
   "execution_count": 39,
   "id": "b321d365-80ff-45e7-8f50-2715993072f2",
   "metadata": {},
   "outputs": [
    {
     "name": "stdout",
     "output_type": "stream",
     "text": [
      "[[ 1.0885623e+00 -1.2396705e+00]\n",
      " [ 9.9790919e-01 -1.1339223e+00]\n",
      " [-5.9604645e-08  5.9604645e-08]\n",
      " [ 2.8711897e-01 -3.1994748e-01]\n",
      " [-5.9604645e-08  1.1920929e-07]\n",
      " [-2.0861626e-07  2.6822090e-07]\n",
      " [-5.9604645e-08  1.1920929e-07]\n",
      " [ 4.4398844e-01 -5.1545578e-01]\n",
      " [ 0.0000000e+00 -5.9604645e-08]\n",
      " [ 6.6755408e-01 -7.6656777e-01]\n",
      " [ 2.9802322e-08 -2.9802322e-08]\n",
      " [ 2.4177325e-01 -2.7485609e-01]\n",
      " [-5.9604645e-08  0.0000000e+00]\n",
      " [-7.4505806e-08  5.9604645e-08]\n",
      " [ 0.0000000e+00  0.0000000e+00]\n",
      " [ 0.0000000e+00  5.9604645e-08]\n",
      " [-9.2479408e-02  1.0461730e-01]\n",
      " [ 3.2576397e-01 -3.7634587e-01]\n",
      " [-3.2565272e-01  3.6970162e-01]\n",
      " [-1.2382329e+00  1.4117850e+00]]\n"
     ]
    }
   ],
   "source": [
    "print(predicted[0:20]-predicted1[0:20])\n"
   ]
  },
  {
   "cell_type": "code",
   "execution_count": null,
   "id": "3a9f9bfe-1509-4540-9e63-8ab877bbaa0c",
   "metadata": {},
   "outputs": [],
   "source": []
  }
 ],
 "metadata": {
  "kernelspec": {
   "display_name": "Python 3 (ipykernel)",
   "language": "python",
   "name": "python3"
  },
  "language_info": {
   "codemirror_mode": {
    "name": "ipython",
    "version": 3
   },
   "file_extension": ".py",
   "mimetype": "text/x-python",
   "name": "python",
   "nbconvert_exporter": "python",
   "pygments_lexer": "ipython3",
   "version": "3.7.9"
  }
 },
 "nbformat": 4,
 "nbformat_minor": 5
}
